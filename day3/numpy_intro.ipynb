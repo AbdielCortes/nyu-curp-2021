{
 "cells": [
  {
   "cell_type": "code",
   "execution_count": 21,
   "metadata": {},
   "outputs": [],
   "source": [
    "import math\n",
    "import matplotlib.pyplot as plt"
   ]
  },
  {
   "cell_type": "markdown",
   "metadata": {},
   "source": [
    "# Intro To Numpy"
   ]
  },
  {
   "cell_type": "markdown",
   "metadata": {},
   "source": [
    "Numpy is a standard package for working with _arrays_\n",
    "\n",
    "- simple\n",
    "- fast\n",
    "- efficient\n",
    "- **compatible**\n",
    "\n",
    "Numpy arrays are compatible with many, _many_ other libraries: matplotlib, scipy, seaborn, astropy, NetworkX, PyStan, etc...\n",
    "\n",
    "Many domain specific python libraries are built off numpy; you'll be likely to use this stuff everyday."
   ]
  },
  {
   "cell_type": "code",
   "execution_count": 59,
   "metadata": {},
   "outputs": [],
   "source": [
    "import numpy as np"
   ]
  },
  {
   "cell_type": "markdown",
   "metadata": {},
   "source": [
    "#### A Simple First Array"
   ]
  },
  {
   "cell_type": "code",
   "execution_count": 2,
   "metadata": {},
   "outputs": [
    {
     "data": {
      "text/plain": [
       "[1, 2, 3, 4, 5]"
      ]
     },
     "execution_count": 2,
     "metadata": {},
     "output_type": "execute_result"
    }
   ],
   "source": [
    "[1,2,3,4,5]"
   ]
  },
  {
   "cell_type": "code",
   "execution_count": 62,
   "metadata": {},
   "outputs": [
    {
     "name": "stdout",
     "output_type": "stream",
     "text": [
      "[1 2 3 4 5]\n"
     ]
    }
   ],
   "source": [
    "a = np.array([1, 2, 3, 4, 5])\n",
    "print(a)"
   ]
  },
  {
   "cell_type": "code",
   "execution_count": 66,
   "metadata": {},
   "outputs": [
    {
     "name": "stdout",
     "output_type": "stream",
     "text": [
      "1\n",
      "[3 4]\n",
      "[5 4 3 2 1]\n"
     ]
    }
   ],
   "source": [
    "print(a[0]) # individual elements\n",
    "print(a[2:4]) # slices\n",
    "print(a[::-1]) # reverse indexing"
   ]
  },
  {
   "cell_type": "markdown",
   "metadata": {},
   "source": [
    "#### More Dimensions"
   ]
  },
  {
   "cell_type": "code",
   "execution_count": 67,
   "metadata": {},
   "outputs": [
    {
     "name": "stdout",
     "output_type": "stream",
     "text": [
      "[[ 1  2  3  4  5]\n",
      " [ 6  7  8  9 10]]\n"
     ]
    }
   ],
   "source": [
    "a = np.array([[1, 2, 3, 4, 5], \n",
    "              [6, 7, 8, 9, 10]])\n",
    "print(a)"
   ]
  },
  {
   "cell_type": "code",
   "execution_count": 58,
   "metadata": {},
   "outputs": [
    {
     "name": "stdout",
     "output_type": "stream",
     "text": [
      "[3 4]\n"
     ]
    }
   ],
   "source": [
    "print(a[0, 2:4])"
   ]
  },
  {
   "cell_type": "code",
   "execution_count": 5,
   "metadata": {},
   "outputs": [
    {
     "name": "stdout",
     "output_type": "stream",
     "text": [
      "[1 6]\n"
     ]
    }
   ],
   "source": [
    "print(a[:, 0]) ## all rows, 0th column"
   ]
  },
  {
   "cell_type": "code",
   "execution_count": 61,
   "metadata": {},
   "outputs": [
    {
     "name": "stdout",
     "output_type": "stream",
     "text": [
      "[ 6  7  8  9 10]\n"
     ]
    }
   ],
   "source": [
    "print(a[1, :]) ## 1st row, all columns"
   ]
  },
  {
   "cell_type": "markdown",
   "metadata": {},
   "source": [
    "##### Higher dimensional slices"
   ]
  },
  {
   "cell_type": "code",
   "execution_count": 77,
   "metadata": {},
   "outputs": [],
   "source": [
    "a = np.random.rand(5,3,4) ## random 5x3x4 array"
   ]
  },
  {
   "cell_type": "code",
   "execution_count": 78,
   "metadata": {},
   "outputs": [
    {
     "name": "stdout",
     "output_type": "stream",
     "text": [
      "[[0.8457766  0.62892842 0.09849827 0.66545619]\n",
      " [0.26017056 0.18840335 0.67511111 0.6532889 ]\n",
      " [0.85967427 0.26051065 0.47751444 0.3124384 ]]\n"
     ]
    }
   ],
   "source": [
    "print(a[1, ::]) ## take 1st index in first dimension, and _all_ elements in _all_ other dimensions"
   ]
  },
  {
   "cell_type": "markdown",
   "metadata": {},
   "source": [
    "### **Question**\n",
    "How would we select rows 3,4,5,6 and columns 0,1,2,3 in a random 10x10 array? "
   ]
  },
  {
   "cell_type": "code",
   "execution_count": 8,
   "metadata": {},
   "outputs": [],
   "source": [
    "a = np.random.rand(10, 10)"
   ]
  },
  {
   "cell_type": "code",
   "execution_count": 9,
   "metadata": {
    "collapsed": true,
    "jupyter": {
     "outputs_hidden": true
    }
   },
   "outputs": [
    {
     "ename": "SyntaxError",
     "evalue": "invalid syntax (<ipython-input-9-5b03ed892640>, line 1)",
     "output_type": "error",
     "traceback": [
      "\u001b[0;36m  File \u001b[0;32m\"<ipython-input-9-5b03ed892640>\"\u001b[0;36m, line \u001b[0;32m1\u001b[0m\n\u001b[0;31m    a[????]\u001b[0m\n\u001b[0m      ^\u001b[0m\n\u001b[0;31mSyntaxError\u001b[0m\u001b[0;31m:\u001b[0m invalid syntax\n"
     ]
    }
   ],
   "source": [
    "a[????]"
   ]
  },
  {
   "cell_type": "markdown",
   "metadata": {},
   "source": [
    "### Array Shapes"
   ]
  },
  {
   "cell_type": "markdown",
   "metadata": {},
   "source": [
    "##### Getting the shape of your arrays"
   ]
  },
  {
   "cell_type": "code",
   "execution_count": 125,
   "metadata": {},
   "outputs": [
    {
     "name": "stdout",
     "output_type": "stream",
     "text": [
      "(10, 2)\n",
      "10\n"
     ]
    }
   ],
   "source": [
    "a = np.random.rand(10, 2)\n",
    "print(a.shape) ## shape of the whole array\n",
    "print(a.shape[0]) ## size of 0th dimension"
   ]
  },
  {
   "cell_type": "markdown",
   "metadata": {},
   "source": [
    "##### Transposes"
   ]
  },
  {
   "cell_type": "code",
   "execution_count": 132,
   "metadata": {},
   "outputs": [
    {
     "name": "stdout",
     "output_type": "stream",
     "text": [
      "[[0.87275741 0.06037376 0.77784115 0.50429861 0.67121447 0.32405087\n",
      "  0.46742816 0.99688183 0.36098636 0.59493624]\n",
      " [0.67330727 0.66846131 0.73666086 0.29315299 0.44123775 0.38007119\n",
      "  0.58439857 0.72119801 0.47249216 0.69621052]]\n",
      "\n",
      "\n",
      "[[0.87275741 0.06037376 0.77784115 0.50429861 0.67121447 0.32405087\n",
      "  0.46742816 0.99688183 0.36098636 0.59493624]\n",
      " [0.67330727 0.66846131 0.73666086 0.29315299 0.44123775 0.38007119\n",
      "  0.58439857 0.72119801 0.47249216 0.69621052]]\n",
      "\n",
      "\n",
      "[[0.87275741 0.06037376 0.77784115 0.50429861 0.67121447 0.32405087\n",
      "  0.46742816 0.99688183 0.36098636 0.59493624]\n",
      " [0.67330727 0.66846131 0.73666086 0.29315299 0.44123775 0.38007119\n",
      "  0.58439857 0.72119801 0.47249216 0.69621052]]\n"
     ]
    }
   ],
   "source": [
    "print(a.transpose(1, 0))\n",
    "print(\"\\n\")\n",
    "print(a.T)\n",
    "print(\"\\n\")\n",
    "print(np.transpose(a, (1,0)))"
   ]
  },
  {
   "cell_type": "markdown",
   "metadata": {},
   "source": [
    "##### Flattening your arrays"
   ]
  },
  {
   "cell_type": "code",
   "execution_count": 81,
   "metadata": {},
   "outputs": [
    {
     "name": "stdout",
     "output_type": "stream",
     "text": [
      "[0.22963003 0.9591069  0.22910645 0.0218155  0.16080555 0.3243579\n",
      " 0.17668099 0.99911301 0.65672609 0.95053127 0.49050967 0.95867969\n",
      " 0.48567479 0.21376395 0.69216385 0.64347904 0.83585345 0.33721815\n",
      " 0.41821688 0.09780442]\n",
      "\n",
      "\n",
      "(20,)\n"
     ]
    }
   ],
   "source": [
    "print(a.flatten()) # goes dimension by dimension to make things one dimensional\n",
    "print('\\n')\n",
    "print(a.flatten().shape)"
   ]
  },
  {
   "cell_type": "markdown",
   "metadata": {},
   "source": [
    "##### General Reshaping"
   ]
  },
  {
   "cell_type": "code",
   "execution_count": 83,
   "metadata": {},
   "outputs": [
    {
     "name": "stdout",
     "output_type": "stream",
     "text": [
      "[[[0.1473887  0.40674129]\n",
      "  [0.02588493 0.92474732]\n",
      "  [0.3818968  0.08133319]\n",
      "  [0.28570441 0.26733468]]\n",
      "\n",
      " [[0.66607247 0.55090672]\n",
      "  [0.66732125 0.01630898]\n",
      "  [0.47188596 0.96991917]\n",
      "  [0.15508736 0.14291758]]\n",
      "\n",
      " [[0.02438971 0.16947013]\n",
      "  [0.25304137 0.31318723]\n",
      "  [0.06180798 0.10589201]\n",
      "  [0.09192283 0.89848322]]]\n",
      "\n",
      "\n",
      "[[0.1473887  0.40674129]\n",
      " [0.02588493 0.92474732]\n",
      " [0.3818968  0.08133319]\n",
      " [0.28570441 0.26733468]\n",
      " [0.66607247 0.55090672]\n",
      " [0.66732125 0.01630898]\n",
      " [0.47188596 0.96991917]\n",
      " [0.15508736 0.14291758]\n",
      " [0.02438971 0.16947013]\n",
      " [0.25304137 0.31318723]\n",
      " [0.06180798 0.10589201]\n",
      " [0.09192283 0.89848322]]\n"
     ]
    }
   ],
   "source": [
    "a = np.random.rand(3,4,2)\n",
    "print(a)\n",
    "print(\"\\n\")\n",
    "print(a.reshape(12, 2))"
   ]
  },
  {
   "cell_type": "code",
   "execution_count": 84,
   "metadata": {},
   "outputs": [
    {
     "name": "stdout",
     "output_type": "stream",
     "text": [
      "[[0.1473887  0.40674129 0.02588493]\n",
      " [0.92474732 0.3818968  0.08133319]\n",
      " [0.28570441 0.26733468 0.66607247]\n",
      " [0.55090672 0.66732125 0.01630898]\n",
      " [0.47188596 0.96991917 0.15508736]\n",
      " [0.14291758 0.02438971 0.16947013]\n",
      " [0.25304137 0.31318723 0.06180798]\n",
      " [0.10589201 0.09192283 0.89848322]]\n"
     ]
    }
   ],
   "source": [
    "print(a.reshape(-1, 3))"
   ]
  },
  {
   "cell_type": "markdown",
   "metadata": {},
   "source": [
    "### **Question**\n",
    "How would you change a `3x4` array into a `6x2` array?"
   ]
  },
  {
   "cell_type": "code",
   "execution_count": 13,
   "metadata": {},
   "outputs": [],
   "source": [
    "a = np.random.rand(3,4)\n"
   ]
  },
  {
   "cell_type": "markdown",
   "metadata": {},
   "source": [
    "What about a `3x4xn` into a `6x2n` array if you don't know `n` beforehand? "
   ]
  },
  {
   "cell_type": "code",
   "execution_count": 86,
   "metadata": {},
   "outputs": [
    {
     "ename": "ValueError",
     "evalue": "cannot reshape array of size 96 into shape (6,2,7)",
     "output_type": "error",
     "traceback": [
      "\u001b[0;31m---------------------------------------------------------------------------\u001b[0m",
      "\u001b[0;31mValueError\u001b[0m                                Traceback (most recent call last)",
      "\u001b[0;32m<ipython-input-86-89720fd1fae7>\u001b[0m in \u001b[0;36m<module>\u001b[0;34m\u001b[0m\n\u001b[1;32m      1\u001b[0m \u001b[0ma\u001b[0m \u001b[0;34m=\u001b[0m \u001b[0mnp\u001b[0m\u001b[0;34m.\u001b[0m\u001b[0mrandom\u001b[0m\u001b[0;34m.\u001b[0m\u001b[0mrand\u001b[0m\u001b[0;34m(\u001b[0m\u001b[0;36m3\u001b[0m\u001b[0;34m,\u001b[0m\u001b[0;36m4\u001b[0m\u001b[0;34m,\u001b[0m\u001b[0;36m8\u001b[0m\u001b[0;34m)\u001b[0m\u001b[0;34m\u001b[0m\u001b[0;34m\u001b[0m\u001b[0m\n\u001b[0;32m----> 2\u001b[0;31m \u001b[0ma\u001b[0m\u001b[0;34m.\u001b[0m\u001b[0mreshape\u001b[0m\u001b[0;34m(\u001b[0m\u001b[0;36m6\u001b[0m\u001b[0;34m,\u001b[0m\u001b[0;36m2\u001b[0m\u001b[0;34m,\u001b[0m\u001b[0;36m7\u001b[0m\u001b[0;34m)\u001b[0m\u001b[0;34m\u001b[0m\u001b[0;34m\u001b[0m\u001b[0m\n\u001b[0m",
      "\u001b[0;31mValueError\u001b[0m: cannot reshape array of size 96 into shape (6,2,7)"
     ]
    }
   ],
   "source": [
    "n = 7\n",
    "a = np.random.rand(3,4,n)\n",
    "a.reshape(???)"
   ]
  },
  {
   "cell_type": "markdown",
   "metadata": {},
   "source": [
    "### Copying \n",
    "\n",
    "Note that if you duplicate an array using `a=b`, changes to `a` will also change `b`"
   ]
  },
  {
   "cell_type": "code",
   "execution_count": 88,
   "metadata": {},
   "outputs": [],
   "source": [
    "a = np.array([4, 3, 2, 1])\n",
    "b = a\n",
    "b[0] = -10"
   ]
  },
  {
   "cell_type": "code",
   "execution_count": 89,
   "metadata": {
    "collapsed": true,
    "jupyter": {
     "outputs_hidden": true
    }
   },
   "outputs": [
    {
     "name": "stdout",
     "output_type": "stream",
     "text": [
      "[-10   3   2   1]\n",
      "[-10   3   2   1]\n"
     ]
    }
   ],
   "source": [
    "print(a) \n",
    "print(b)"
   ]
  },
  {
   "cell_type": "markdown",
   "metadata": {},
   "source": [
    "Can call `copy` on `a` to make a new version of `b` that is independent of `a`"
   ]
  },
  {
   "cell_type": "code",
   "execution_count": 90,
   "metadata": {},
   "outputs": [],
   "source": [
    "b = a.copy()\n",
    "b[0] = 22"
   ]
  },
  {
   "cell_type": "code",
   "execution_count": 91,
   "metadata": {
    "collapsed": true,
    "jupyter": {
     "outputs_hidden": true
    }
   },
   "outputs": [
    {
     "name": "stdout",
     "output_type": "stream",
     "text": [
      "[-10   3   2   1]\n",
      "[22  3  2  1]\n"
     ]
    }
   ],
   "source": [
    "print(a) ## a doesn't change\n",
    "print(b)"
   ]
  },
  {
   "cell_type": "markdown",
   "metadata": {},
   "source": [
    "### Specifying Data types"
   ]
  },
  {
   "cell_type": "code",
   "execution_count": 92,
   "metadata": {},
   "outputs": [
    {
     "data": {
      "text/plain": [
       "array([1, 2, 3], dtype=int32)"
      ]
     },
     "execution_count": 92,
     "metadata": {},
     "output_type": "execute_result"
    }
   ],
   "source": [
    "np.array([1., 2, 3], dtype='i') ## integers"
   ]
  },
  {
   "cell_type": "code",
   "execution_count": 93,
   "metadata": {},
   "outputs": [
    {
     "data": {
      "text/plain": [
       "array([1., 2., 3.], dtype=float32)"
      ]
     },
     "execution_count": 93,
     "metadata": {},
     "output_type": "execute_result"
    }
   ],
   "source": [
    "np.array([1., 2, 3], dtype='f') ## float"
   ]
  },
  {
   "cell_type": "code",
   "execution_count": 94,
   "metadata": {},
   "outputs": [
    {
     "data": {
      "text/plain": [
       "array([1, 2, 3], dtype=int32)"
      ]
     },
     "execution_count": 94,
     "metadata": {},
     "output_type": "execute_result"
    }
   ],
   "source": [
    "a = np.array([1., 2, 3], dtype='f')\n",
    "a.astype('i') ## changing type after initialized"
   ]
  },
  {
   "cell_type": "markdown",
   "metadata": {},
   "source": [
    "## Algebra With Arrays"
   ]
  },
  {
   "cell_type": "code",
   "execution_count": 105,
   "metadata": {},
   "outputs": [],
   "source": [
    "a = np.array([1., 2, 3], dtype='f')"
   ]
  },
  {
   "cell_type": "code",
   "execution_count": 108,
   "metadata": {},
   "outputs": [],
   "source": [
    "b = 2 * a + 5 # arrays and scalars"
   ]
  },
  {
   "cell_type": "code",
   "execution_count": 109,
   "metadata": {},
   "outputs": [
    {
     "name": "stdout",
     "output_type": "stream",
     "text": [
      "[1. 2. 3.]\n",
      "[ 7.  9. 11.]\n"
     ]
    }
   ],
   "source": [
    "print(a)\n",
    "print(b)"
   ]
  },
  {
   "cell_type": "code",
   "execution_count": 110,
   "metadata": {},
   "outputs": [
    {
     "name": "stdout",
     "output_type": "stream",
     "text": [
      "[ 8. 11. 14.]\n"
     ]
    }
   ],
   "source": [
    "c = a + b # arrays and arrays\n",
    "print(c)"
   ]
  },
  {
   "cell_type": "markdown",
   "metadata": {},
   "source": [
    "#### Matrix Algebra"
   ]
  },
  {
   "cell_type": "code",
   "execution_count": 25,
   "metadata": {},
   "outputs": [],
   "source": [
    "a = np.array([[1., 2.],\n",
    "              [3., 4.]])\n",
    "b = np.random.rand(2, 4) # 2x4 matrix filled with random values between 0 and 1"
   ]
  },
  {
   "cell_type": "code",
   "execution_count": 26,
   "metadata": {},
   "outputs": [
    {
     "name": "stdout",
     "output_type": "stream",
     "text": [
      "[[2.02569146 2.61106162 1.06205285 1.21181124]\n",
      " [4.25322311 6.20787884 3.10887037 3.07648419]]\n",
      "\n",
      "\n",
      "[[2.02569146 2.61106162 1.06205285 1.21181124]\n",
      " [4.25322311 6.20787884 3.10887037 3.07648419]]\n",
      "\n",
      "\n",
      "[[2.02569146 2.61106162 1.06205285 1.21181124]\n",
      " [4.25322311 6.20787884 3.10887037 3.07648419]]\n"
     ]
    }
   ],
   "source": [
    "print(np.matmul(a, b))\n",
    "print(\"\\n\")\n",
    "print(np.dot(a, b))\n",
    "print(\"\\n\")\n",
    "print(a @ b) ## the a @ b is the same as np.matmul(a, b) internally"
   ]
  },
  {
   "cell_type": "markdown",
   "metadata": {},
   "source": [
    "#### `np.dot()` vs `np.matmul()` and `@`"
   ]
  },
  {
   "cell_type": "markdown",
   "metadata": {},
   "source": [
    "These should work the same for 1 or 2 dimensional arrays"
   ]
  },
  {
   "cell_type": "code",
   "execution_count": 27,
   "metadata": {},
   "outputs": [],
   "source": [
    "a = np.array([1., 2., 3., 4.])\n",
    "b = np.array([5., 6., 7., 8.])"
   ]
  },
  {
   "cell_type": "code",
   "execution_count": 28,
   "metadata": {},
   "outputs": [
    {
     "name": "stdout",
     "output_type": "stream",
     "text": [
      "70.0\n",
      "70.0\n"
     ]
    }
   ],
   "source": [
    "print(a.dot(b)) ## note the shortcut a.dot(b) instead of np.dot(a,b)\n",
    "print(np.matmul(a, b))"
   ]
  },
  {
   "cell_type": "markdown",
   "metadata": {},
   "source": [
    "##### *Not the same for higher dimensional arrays - be careful!*"
   ]
  },
  {
   "cell_type": "code",
   "execution_count": 29,
   "metadata": {},
   "outputs": [],
   "source": [
    "a = np.random.rand(3, 4, 4)\n",
    "b = np.random.rand(3, 4, 4)"
   ]
  },
  {
   "cell_type": "code",
   "execution_count": 30,
   "metadata": {},
   "outputs": [
    {
     "data": {
      "text/plain": [
       "(3, 4, 3, 4)"
      ]
     },
     "execution_count": 30,
     "metadata": {},
     "output_type": "execute_result"
    }
   ],
   "source": [
    "np.dot(a, b).shape ## not a common use case"
   ]
  },
  {
   "cell_type": "code",
   "execution_count": 31,
   "metadata": {},
   "outputs": [
    {
     "data": {
      "text/plain": [
       "(3, 4, 4)"
      ]
     },
     "execution_count": 31,
     "metadata": {},
     "output_type": "execute_result"
    }
   ],
   "source": [
    "np.matmul(a, b).shape ## treats first dimension as a \"batch\", think of as 3 separate 4x4 matmuls"
   ]
  },
  {
   "cell_type": "markdown",
   "metadata": {},
   "source": [
    "## More Linear Algebra\n",
    "\n",
    "`np.linalg` is a powerful linear algebra package, really useful to have on hand"
   ]
  },
  {
   "cell_type": "code",
   "execution_count": 112,
   "metadata": {},
   "outputs": [],
   "source": [
    "mat = np.array([[6, 2, 1],\n",
    "                [2, 9, 3],\n",
    "                [1, 3, 8]])"
   ]
  },
  {
   "cell_type": "markdown",
   "metadata": {},
   "source": [
    "**Eigenvalues**"
   ]
  },
  {
   "cell_type": "code",
   "execution_count": 113,
   "metadata": {},
   "outputs": [
    {
     "name": "stdout",
     "output_type": "stream",
     "text": [
      "[12.29589694  4.8411664   5.86293666]\n",
      "\n",
      "\n",
      "[[-0.32798528 -0.73697623 -0.59100905]\n",
      " [-0.73697623  0.59100905 -0.32798528]\n",
      " [-0.59100905 -0.32798528  0.73697623]]\n"
     ]
    }
   ],
   "source": [
    "evals, evecs = np.linalg.eig(mat)\n",
    "print(evals) ## eigenvalues\n",
    "print(\"\\n\")\n",
    "print(evecs) ## eigenvectors (as columns)"
   ]
  },
  {
   "cell_type": "markdown",
   "metadata": {},
   "source": [
    "**Decompositions**"
   ]
  },
  {
   "cell_type": "code",
   "execution_count": 117,
   "metadata": {},
   "outputs": [],
   "source": [
    "L = np.linalg.cholesky(mat)\n",
    "print(L @ L.T)"
   ]
  },
  {
   "cell_type": "code",
   "execution_count": 133,
   "metadata": {},
   "outputs": [
    {
     "name": "stdout",
     "output_type": "stream",
     "text": [
      "[[6. 2. 1.]\n",
      " [2. 9. 3.]\n",
      " [1. 3. 8.]]\n"
     ]
    }
   ],
   "source": [
    "Q, R = np.linalg.qr(mat)\n",
    "print(Q @ R)"
   ]
  },
  {
   "cell_type": "code",
   "execution_count": 137,
   "metadata": {},
   "outputs": [
    {
     "name": "stdout",
     "output_type": "stream",
     "text": [
      "[[6. 2. 1.]\n",
      " [2. 9. 3.]\n",
      " [1. 3. 8.]]\n"
     ]
    }
   ],
   "source": [
    "u, S, vt = np.linalg.svd(mat)\n",
    "print(u @ np.diag(S) @ vt)"
   ]
  },
  {
   "cell_type": "markdown",
   "metadata": {},
   "source": [
    "**System Solvers**"
   ]
  },
  {
   "cell_type": "code",
   "execution_count": 37,
   "metadata": {},
   "outputs": [],
   "source": [
    "A = mat\n",
    "b = np.array([13, 29, 31], dtype='f')"
   ]
  },
  {
   "cell_type": "markdown",
   "metadata": {},
   "source": [
    "Solve $Ax = b$"
   ]
  },
  {
   "cell_type": "code",
   "execution_count": 38,
   "metadata": {},
   "outputs": [
    {
     "name": "stdout",
     "output_type": "stream",
     "text": [
      "[13. 29. 31.]\n"
     ]
    }
   ],
   "source": [
    "x = np.linalg.solve(A, b) ## Solves the system Ax=b\n",
    "print(A @ x)"
   ]
  },
  {
   "cell_type": "markdown",
   "metadata": {},
   "source": [
    "## Storing Numpy Files\n",
    "\n",
    "Numpy has its own file types that let you save array(s)"
   ]
  },
  {
   "cell_type": "markdown",
   "metadata": {},
   "source": [
    "#### Single Array"
   ]
  },
  {
   "cell_type": "code",
   "execution_count": 39,
   "metadata": {},
   "outputs": [
    {
     "name": "stdout",
     "output_type": "stream",
     "text": [
      "[[0.95253278 0.50119054 0.86643257 0.40326549]\n",
      " [0.00661448 0.68872276 0.66993338 0.39594021]\n",
      " [0.72571412 0.33539351 0.67425399 0.58955574]]\n"
     ]
    }
   ],
   "source": [
    "mat = np.random.rand(3, 4)\n",
    "print(mat)"
   ]
  },
  {
   "cell_type": "code",
   "execution_count": 40,
   "metadata": {},
   "outputs": [],
   "source": [
    "np.save(\"./test_single_save.npy\", mat) ## filetype is npy"
   ]
  },
  {
   "cell_type": "code",
   "execution_count": 41,
   "metadata": {},
   "outputs": [
    {
     "data": {
      "text/plain": [
       "array([[0.95253278, 0.50119054, 0.86643257, 0.40326549],\n",
       "       [0.00661448, 0.68872276, 0.66993338, 0.39594021],\n",
       "       [0.72571412, 0.33539351, 0.67425399, 0.58955574]])"
      ]
     },
     "execution_count": 41,
     "metadata": {},
     "output_type": "execute_result"
    }
   ],
   "source": [
    "np.load(\"./test_single_save.npy\")"
   ]
  },
  {
   "cell_type": "markdown",
   "metadata": {},
   "source": [
    "#### Multiple Arrays"
   ]
  },
  {
   "cell_type": "code",
   "execution_count": 139,
   "metadata": {},
   "outputs": [],
   "source": [
    "A = np.random.rand(3, 4)\n",
    "B = np.random.rand(1, 2)\n",
    "C = np.random.rand(5)"
   ]
  },
  {
   "cell_type": "code",
   "execution_count": 140,
   "metadata": {},
   "outputs": [],
   "source": [
    "np.savez(\"./test_multi_save.npz\", A=A, B=B, C=C) ## filetype is npz"
   ]
  },
  {
   "cell_type": "code",
   "execution_count": 141,
   "metadata": {},
   "outputs": [
    {
     "name": "stdout",
     "output_type": "stream",
     "text": [
      "['A', 'B', 'C']\n"
     ]
    }
   ],
   "source": [
    "outfile = np.load(\"./test_multi_save.npz\")\n",
    "print(outfile.files)"
   ]
  },
  {
   "cell_type": "code",
   "execution_count": 45,
   "metadata": {},
   "outputs": [
    {
     "name": "stdout",
     "output_type": "stream",
     "text": [
      "[[0.06212535 0.89585943 0.61778945 0.81149984]\n",
      " [0.90386206 0.86259117 0.24202999 0.14175873]\n",
      " [0.06730119 0.36561761 0.7001255  0.81085232]]\n",
      "\n",
      "\n",
      "[[0.06212535 0.89585943 0.61778945 0.81149984]\n",
      " [0.90386206 0.86259117 0.24202999 0.14175873]\n",
      " [0.06730119 0.36561761 0.7001255  0.81085232]]\n"
     ]
    }
   ],
   "source": [
    "print(A)\n",
    "print(\"\\n\")\n",
    "print(outfile['A'])"
   ]
  },
  {
   "cell_type": "markdown",
   "metadata": {},
   "source": [
    "## **Question**\n",
    "\n",
    "Create two one dimensional arrays, one of the integers 0 to 9 and one of the integers 0 to 19 \n",
    "and save these in a single file with the names `first` and `second`, then load them back in to jupyter\n",
    "\n",
    "Hint: `np.arange()`"
   ]
  },
  {
   "cell_type": "markdown",
   "metadata": {},
   "source": [
    "## Fancy Indexing & Searching"
   ]
  },
  {
   "cell_type": "code",
   "execution_count": 146,
   "metadata": {},
   "outputs": [],
   "source": [
    "a = np.arange(10)\n",
    "b = np.arange(10, 20)"
   ]
  },
  {
   "cell_type": "markdown",
   "metadata": {},
   "source": [
    "Getting indexes of entries where conditions are met"
   ]
  },
  {
   "cell_type": "code",
   "execution_count": 148,
   "metadata": {},
   "outputs": [
    {
     "name": "stdout",
     "output_type": "stream",
     "text": [
      "[6 7 8 9]\n"
     ]
    }
   ],
   "source": [
    "print(np.where(a > 5)[0])\n",
    "idx = np.where(a > 5)[0]"
   ]
  },
  {
   "cell_type": "code",
   "execution_count": 149,
   "metadata": {},
   "outputs": [
    {
     "data": {
      "text/plain": [
       "array([16, 17, 18, 19])"
      ]
     },
     "execution_count": 149,
     "metadata": {},
     "output_type": "execute_result"
    }
   ],
   "source": [
    "b[idx]"
   ]
  },
  {
   "cell_type": "markdown",
   "metadata": {},
   "source": [
    "Argmin and Argmax"
   ]
  },
  {
   "cell_type": "code",
   "execution_count": 95,
   "metadata": {},
   "outputs": [
    {
     "name": "stdout",
     "output_type": "stream",
     "text": [
      "9\n",
      "0\n"
     ]
    }
   ],
   "source": [
    "print(np.argmax(b))\n",
    "print(np.argmin(b))"
   ]
  },
  {
   "cell_type": "markdown",
   "metadata": {},
   "source": [
    "Indexing - one of my favorite often overlooked features"
   ]
  },
  {
   "cell_type": "code",
   "execution_count": 104,
   "metadata": {},
   "outputs": [
    {
     "name": "stdout",
     "output_type": "stream",
     "text": [
      "[[ 0  1  2  3  4  5]\n",
      " [ 6  7  8  9 10 11]\n",
      " [12 13 14 15 16 17]\n",
      " [18 19 20 21 22 23]\n",
      " [24 25 26 27 28 29]]\n"
     ]
    }
   ],
   "source": [
    "a = np.arange(30).reshape(5, -1)\n",
    "print(a)"
   ]
  },
  {
   "cell_type": "markdown",
   "metadata": {},
   "source": [
    "Suppose I want to take rows at indexes 0, 3, and 4 - what do I do?\n",
    "\n",
    "Easy I can do `a[[0, 3, 4], :]`"
   ]
  },
  {
   "cell_type": "code",
   "execution_count": 113,
   "metadata": {},
   "outputs": [
    {
     "data": {
      "text/plain": [
       "array([[ 0,  1,  2,  3,  4,  5],\n",
       "       [18, 19, 20, 21, 22, 23],\n",
       "       [24, 25, 26, 27, 28, 29]])"
      ]
     },
     "execution_count": 113,
     "metadata": {},
     "output_type": "execute_result"
    }
   ],
   "source": [
    "idx_row = [0, 3, 4]\n",
    "a[idx_row, :]"
   ]
  },
  {
   "cell_type": "markdown",
   "metadata": {},
   "source": [
    "But what if I want columns 2 and 5 from those rows? "
   ]
  },
  {
   "cell_type": "code",
   "execution_count": 115,
   "metadata": {},
   "outputs": [
    {
     "ename": "IndexError",
     "evalue": "shape mismatch: indexing arrays could not be broadcast together with shapes (3,) (2,) ",
     "output_type": "error",
     "traceback": [
      "\u001b[0;31m---------------------------------------------------------------------------\u001b[0m",
      "\u001b[0;31mIndexError\u001b[0m                                Traceback (most recent call last)",
      "\u001b[0;32m<ipython-input-115-55db9807bde7>\u001b[0m in \u001b[0;36m<module>\u001b[0;34m\u001b[0m\n\u001b[1;32m      1\u001b[0m \u001b[0midx_col\u001b[0m \u001b[0;34m=\u001b[0m \u001b[0;34m[\u001b[0m\u001b[0;36m2\u001b[0m\u001b[0;34m,\u001b[0m\u001b[0;36m5\u001b[0m\u001b[0;34m]\u001b[0m\u001b[0;34m\u001b[0m\u001b[0;34m\u001b[0m\u001b[0m\n\u001b[0;32m----> 2\u001b[0;31m \u001b[0ma\u001b[0m\u001b[0;34m[\u001b[0m\u001b[0midx_row\u001b[0m\u001b[0;34m,\u001b[0m \u001b[0midx_col\u001b[0m\u001b[0;34m]\u001b[0m \u001b[0;31m## uh oh\u001b[0m\u001b[0;34m\u001b[0m\u001b[0;34m\u001b[0m\u001b[0m\n\u001b[0m",
      "\u001b[0;31mIndexError\u001b[0m: shape mismatch: indexing arrays could not be broadcast together with shapes (3,) (2,) "
     ]
    }
   ],
   "source": [
    "idx_col = [2,5]\n",
    "a[idx_row, idx_col] ## uh oh"
   ]
  },
  {
   "cell_type": "markdown",
   "metadata": {},
   "source": [
    "Enter `np.ix_()`\n",
    "\n",
    "`np.ix_()` will handle the cross product indexing for you"
   ]
  },
  {
   "cell_type": "code",
   "execution_count": 116,
   "metadata": {},
   "outputs": [
    {
     "data": {
      "text/plain": [
       "array([[ 2,  5],\n",
       "       [20, 23],\n",
       "       [26, 29]])"
      ]
     },
     "execution_count": 116,
     "metadata": {},
     "output_type": "execute_result"
    }
   ],
   "source": [
    "a[np.ix_(idx_row, idx_col)]"
   ]
  },
  {
   "cell_type": "markdown",
   "metadata": {},
   "source": [
    "This is _great_ for subsetting data during preprocessing and cleaning"
   ]
  },
  {
   "cell_type": "markdown",
   "metadata": {},
   "source": [
    "## np.random\n",
    "\n",
    "`np.random` is primarily a random number generation module. \n",
    "\n",
    "The `random` module has many distributions within it:\n",
    "    https://numpy.org/doc/stable/reference/random/generator.html\n",
    "    \n",
    "We'll talk more about using other distributions in the Scipy tutorial, here I want to focus on just a few cases\n",
    "- random.rand()\n",
    "- random.randn()\n",
    "- random.shuffle()\n",
    "- random.choice()\n",
    "- random.randint()"
   ]
  },
  {
   "cell_type": "markdown",
   "metadata": {},
   "source": [
    "**rand()** - uniform(0, 1) random samples"
   ]
  },
  {
   "cell_type": "code",
   "execution_count": 27,
   "metadata": {},
   "outputs": [
    {
     "data": {
      "image/png": "[encoded data removed]",
      "text/plain": [
       "<Figure size 432x288 with 1 Axes>"
      ]
     },
     "metadata": {
      "needs_background": "light"
     },
     "output_type": "display_data"
    }
   ],
   "source": [
    "data  = np.random.rand(10000)\n",
    "\n",
    "plt.hist(data, density=True, bins=20)\n",
    "plt.show()"
   ]
  },
  {
   "cell_type": "markdown",
   "metadata": {},
   "source": [
    "**randn()** - normal(0, 1) random samples"
   ]
  },
  {
   "cell_type": "code",
   "execution_count": 28,
   "metadata": {},
   "outputs": [
    {
     "data": {
      "image/png": "[encoded data removed]",
      "text/plain": [
       "<Figure size 432x288 with 1 Axes>"
      ]
     },
     "metadata": {
      "needs_background": "light"
     },
     "output_type": "display_data"
    }
   ],
   "source": [
    "data  = np.random.randn(10000)\n",
    "\n",
    "plt.hist(data, density=True, bins=20)\n",
    "plt.show()"
   ]
  },
  {
   "cell_type": "markdown",
   "metadata": {},
   "source": [
    "**choice(seq)** - random samples from the input sequence"
   ]
  },
  {
   "cell_type": "code",
   "execution_count": 52,
   "metadata": {},
   "outputs": [
    {
     "data": {
      "text/plain": [
       "array([ 10, 100,   4])"
      ]
     },
     "execution_count": 52,
     "metadata": {},
     "output_type": "execute_result"
    }
   ],
   "source": [
    "np.random.choice([4, 8, 10, 100], size=3, replace=False)"
   ]
  },
  {
   "cell_type": "code",
   "execution_count": 53,
   "metadata": {},
   "outputs": [
    {
     "data": {
      "text/plain": [
       "array([100, 100, 100,  10])"
      ]
     },
     "execution_count": 53,
     "metadata": {},
     "output_type": "execute_result"
    }
   ],
   "source": [
    "np.random.choice([4, 8, 10, 100], size=4, replace=True)"
   ]
  },
  {
   "cell_type": "markdown",
   "metadata": {},
   "source": [
    "**randint(start, stop)** - random integer in the range $[start, stop)$"
   ]
  },
  {
   "cell_type": "code",
   "execution_count": 50,
   "metadata": {},
   "outputs": [
    {
     "data": {
      "text/plain": [
       "array([9, 6, 8, 6, 8, 6, 8, 5, 8, 7])"
      ]
     },
     "execution_count": 50,
     "metadata": {},
     "output_type": "execute_result"
    }
   ],
   "source": [
    "np.random.randint(5, 10, size=10) "
   ]
  },
  {
   "cell_type": "markdown",
   "metadata": {},
   "source": [
    "**shuffle()** - permutes inputs \n",
    "\n",
    "This is an _in place_ operation"
   ]
  },
  {
   "cell_type": "code",
   "execution_count": 162,
   "metadata": {},
   "outputs": [],
   "source": [
    "a = np.arange(10)\n",
    "np.random.shuffle(a)"
   ]
  },
  {
   "cell_type": "code",
   "execution_count": 163,
   "metadata": {},
   "outputs": [
    {
     "data": {
      "text/plain": [
       "array([7, 0, 9, 4, 6, 2, 5, 1, 3, 8])"
      ]
     },
     "execution_count": 163,
     "metadata": {},
     "output_type": "execute_result"
    }
   ],
   "source": [
    "a"
   ]
  },
  {
   "cell_type": "markdown",
   "metadata": {},
   "source": [
    "### **Question**\n",
    "\n",
    "Can draw $30$ values from the even numbers 2,4,...,100 _with_ replacement? (there are a few ways to do this)"
   ]
  },
  {
   "cell_type": "code",
   "execution_count": null,
   "metadata": {},
   "outputs": [],
   "source": []
  }
 ],
 "metadata": {
  "kernelspec": {
   "display_name": "Python 3",
   "language": "python",
   "name": "python3"
  },
  "language_info": {
   "codemirror_mode": {
    "name": "ipython",
    "version": 3
   },
   "file_extension": ".py",
   "mimetype": "text/x-python",
   "name": "python",
   "nbconvert_exporter": "python",
   "pygments_lexer": "ipython3",
   "version": "3.8.3"
  }
 },
 "nbformat": 4,
 "nbformat_minor": 4
}
