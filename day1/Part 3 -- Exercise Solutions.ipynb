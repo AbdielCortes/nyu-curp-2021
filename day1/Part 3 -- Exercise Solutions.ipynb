{
 "cells": [
  {
   "cell_type": "markdown",
   "metadata": {},
   "source": [
    "# Working with Data:\n",
    "### New York City 311 Requests Made in 2021\n",
    "\n",
    "`311_Service_Requests_2021.csv` contains data on all Service Requests (SR) made to NYC's 311 in the first half of January, 2021. Select fields have been retained, as described below. Full data are available at https://data.cityofnewyork.us/Social-Services/311-Service-Requests-from-2010-to-Present/erm2-nwe9\n",
    "\n",
    "\n",
    "### This Notebook\n",
    "Contains working code and examples of basic data analysis. Remember: There is more than one correct way to code! This solutions guide is intended to help if you get stuck, but your code doesn't have to be implemented a certain way.\n",
    "\n",
    "\n",
    "### Data Fields:\n",
    "\n",
    "`Unique Key`: Unique identifier of a Service Request (SR) in the open data set\n",
    "\n",
    "`Created Date`: Date SR was created\n",
    "\n",
    "`Closed Date`: Date SR was closed by responding agency\n",
    "\n",
    "`Agency`: Acronym of responding City Government Agency\n",
    "\n",
    "`Agency Name`: Full Agency name of responding City Government Agency\n",
    "\n",
    "`Complaint Type`: This is the first level of a hierarchy identifying the topic of the incident or condition. Complaint Type may have a corresponding Descriptor (below) or may stand alone.\n",
    "\n",
    "`Descriptor`: This is associated to the Complaint Type, and provides further detail on the incident or condition. Descriptor values are dependent on the Complaint Type, and are not always required in SR.\n",
    "\n",
    "`Location Type`: Describes the type of location used in the address information\n",
    "\n",
    "`Incident Zip`: Incident location zip code, provided by geo validation.\n",
    "\n",
    "`Address Type`: Type of incident location information available.\n",
    "\n",
    "`City`: City of the incident location provided by geovalidation.\n",
    "\n",
    "`Landmark`: If the incident location is identified as a Landmark the name of the landmark will display here\n",
    "\n",
    "`Facility Type`: If available, this field describes the type of city facility associated to the SR\n",
    "\n",
    "`Status`: Status of SR submitted\n",
    "\n",
    "`Due Date`: Date when responding agency is expected to update the SR. This is based on the Complaint Type and internal Service Level Agreements (SLAs).\n",
    "\n",
    "`Resolution Description`: Describes the last action taken on the SR by the responding agency. May describe next or future steps.\n",
    "\n",
    "`Resolution Action Updated Date`: Date when responding agency last updated the SR.\n",
    "\n",
    "`BBL`: Borough Block and Lot, provided by geovalidation. Parcel number to identify the location of location of buildings and properties in NYC.\n",
    "\n",
    "`Borough`: Provided by the submitter and confirmed by geovalidation.\n",
    "\n",
    "`Open Data Channel Type`: Indicates how the SR was submitted to 311. i.e. By Phone, Online, Mobile, Other or Unknown.\n"
   ]
  },
  {
   "cell_type": "markdown",
   "metadata": {},
   "source": [
    "# Intro and Setup\n",
    "\n",
    "(This code runs as expected)"
   ]
  },
  {
   "cell_type": "code",
   "execution_count": 1,
   "metadata": {},
   "outputs": [],
   "source": [
    "# --------- Global variables ------------#\n",
    "filename = '311_Service_Requests_2021.txt'"
   ]
  },
  {
   "cell_type": "code",
   "execution_count": 2,
   "metadata": {},
   "outputs": [],
   "source": [
    "# Load data as a dictionary of form:\n",
    "# {key: [values]}\n",
    "\n",
    "# NOTE: Pandas (https://pandas.pydata.org) is a common package for working with \n",
    "#       table data. Here, though, we'll do all analysis in base Python\n",
    "\n",
    "data = dict()\n",
    "\n",
    "with open(filename, 'r') as fp:\n",
    "    \n",
    "    # for each line of data\n",
    "    for i, line in enumerate(fp.readlines()):\n",
    "        \n",
    "        # strip any white space and split using tabs ('\\t')\n",
    "        line = line.strip().split('\\t')\n",
    "        \n",
    "        if i == 0:\n",
    "            # the first row contains header values\n",
    "            header = line\n",
    "            \n",
    "            # make these header values the keys of the dictionary\n",
    "            for key in header:\n",
    "                data.setdefault(key, list())\n",
    "                \n",
    "        else:\n",
    "            # for all lines past the first, append value to appropriate header list\n",
    "            for key, value in zip(header, line):\n",
    "                data[key].append(value)\n",
    "                \n",
    "# Now we have a dictionary where the i index of every value list represents the same row of data"
   ]
  },
  {
   "cell_type": "code",
   "execution_count": 3,
   "metadata": {},
   "outputs": [
    {
     "name": "stdout",
     "output_type": "stream",
     "text": [
      "Unique Key ['49499840', '49502362']\n",
      "Created Date ['01/09/2021 11:56:15 AM', '01/09/2021 10:49:15 AM']\n",
      "Closed Date ['01/14/2021 06:41:59 AM', '']\n",
      "Agency ['DOT', 'DOT']\n",
      "Agency Name ['Department of Transportation', 'Department of Transportation']\n",
      "Complaint Type ['Broken Parking Meter', 'Highway Sign - Missing']\n",
      "Descriptor ['Out of Order', 'Other/Unknown']\n",
      "Location Type ['Street', 'Highway']\n",
      "Incident Zip ['', '']\n",
      "Address Type ['', '']\n",
      "City ['', '']\n",
      "Landmark ['', '']\n",
      "Facility Type ['', '']\n",
      "Status ['Closed', 'In Progress']\n",
      "Due Date ['', '']\n",
      "Resolution Description ['\"The Department of Transportation inspected the condition you reported. You can find additional information in the \"\"Notes to Customer\"\" field.\"', '']\n",
      "Resolution Action Updated Date ['01/14/2021 11:42:02 AM', '']\n",
      "BBL ['', '']\n",
      "Borough ['Unspecified', 'Unspecified']\n",
      "Open Data Channel Type ['ONLINE', 'ONLINE']\n"
     ]
    }
   ],
   "source": [
    "# Look at sample of data\n",
    "\n",
    "for key, values in data.items():\n",
    "    print(key, values[:2]) # print first two \"rows\" of data"
   ]
  },
  {
   "cell_type": "markdown",
   "metadata": {},
   "source": [
    "# Questions and Exercises\n",
    "\n",
    "This code will ask and answer questions about the dataset. This Notebook contains **working solutions**."
   ]
  },
  {
   "cell_type": "code",
   "execution_count": 4,
   "metadata": {},
   "outputs": [
    {
     "name": "stdout",
     "output_type": "stream",
     "text": [
      "There are 90271 service requests.\n"
     ]
    }
   ],
   "source": [
    "# QUESTION: How many Service Requests are in this dataset?\n",
    "    \n",
    "print('There are {} service requests.'.format(len(data['Unique Key'])))\n",
    "# Should be 90271 requests"
   ]
  },
  {
   "cell_type": "code",
   "execution_count": 5,
   "metadata": {},
   "outputs": [
    {
     "name": "stdout",
     "output_type": "stream",
     "text": [
      "The last date is 1/16/21\n"
     ]
    }
   ],
   "source": [
    "# QUESTION: What is the most recent day of created requests included in this dataset?\n",
    "\n",
    "# TIPS: the dates are *not* in order\n",
    "#       All Service Requests were created in Jan 2021 (eg, month and year don't change)\n",
    "#       'Created Date' is a string of format: '01/09/2021 11:56:15 AM'\n",
    "\n",
    "last_day = 0 \n",
    "\n",
    "for timestamp in data['Created Date']:   \n",
    "    date, time, am_pm = timestamp.split() # splits on space by default\n",
    "            \n",
    "    month, day, year = date.split('/')\n",
    "            \n",
    "    if int(day) > last_day:\n",
    "        last_day = int(day) # keep record of highest day\n",
    "            \n",
    "print('The last date is 1/{}/21'.format(last_day))\n",
    "# Should be 1/16/21"
   ]
  },
  {
   "cell_type": "code",
   "execution_count": 6,
   "metadata": {},
   "outputs": [
    {
     "name": "stdout",
     "output_type": "stream",
     "text": [
      "Top complaint types:\n",
      "   1. HEAT/HOT WATER: 13270 complaints\n",
      "   2. Noise - Residential: 11775 complaints\n",
      "   3. Illegal Parking: 8727 complaints\n",
      "   4. Blocked Driveway: 4676 complaints\n",
      "   5. UNSANITARY CONDITION: 3013 complaints\n"
     ]
    }
   ],
   "source": [
    "# QUESTION: What are the top five most common \"Complaint Type\"s?\n",
    "\n",
    "complaint_counts = dict()\n",
    "\n",
    "for complaint in data['Complaint Type']:\n",
    "    # for each new type we see, add to dict with default of 0 occurances\n",
    "    complaint_counts.setdefault(complaint, 0)\n",
    "    \n",
    "    # iterate count\n",
    "    complaint_counts[complaint] += 1\n",
    "    \n",
    "# sort this dictionary by value from highest count to lowest\n",
    "top_complaints = dict((k, v) for k, v in sorted(complaint_counts.items(),\n",
    "                  key=lambda item: item[1], reverse=True))\n",
    "# read more about lambda functions: https://docs.python.org/3/tutorial/controlflow.html#lambda-expressions\n",
    "\n",
    "print('Top complaint types:')\n",
    "for i, (key, val) in enumerate(top_complaints.items()):\n",
    "    if i < 5:\n",
    "        print('   {}. {}: {} complaints'.format(i + 1, key, val))"
   ]
  },
  {
   "cell_type": "code",
   "execution_count": 7,
   "metadata": {},
   "outputs": [
    {
     "name": "stdout",
     "output_type": "stream",
     "text": [
      "69390 (76.87%) of service requests are closed\n"
     ]
    }
   ],
   "source": [
    "# QUESTION: What percent of Service Requests are closed?\n",
    "closed = data['Status'].count('Closed')\n",
    "\n",
    "print('{} ({:.2%}) of service requests are closed'.format(closed, closed/len(data['Status'])))"
   ]
  },
  {
   "cell_type": "code",
   "execution_count": 8,
   "metadata": {},
   "outputs": [
    {
     "name": "stdout",
     "output_type": "stream",
     "text": [
      "Channel MOBILE is used 14723 (16.31%) of the time\n",
      "Channel UNKNOWN is used 9652 (10.69%) of the time\n",
      "Channel ONLINE is used 34310 (38.01%) of the time\n",
      "Channel PHONE is used 31585 (34.99%) of the time\n",
      "Channel OTHER is used 1 (0.00%) of the time\n"
     ]
    }
   ],
   "source": [
    "# QUESTION: How often are different \"Open Data Channel Type\" used to submit service requests?\n",
    "\n",
    "for channel in set(data['Open Data Channel Type']):\n",
    "    count = data['Open Data Channel Type'].count(channel)\n",
    "\n",
    "    print('Channel {} is used {} ({:.2%}) of the time'.format(channel, \n",
    "                                                              count, \n",
    "                                                              count/len(data['Open Data Channel Type'])))"
   ]
  },
  {
   "cell_type": "code",
   "execution_count": 9,
   "metadata": {},
   "outputs": [
    {
     "name": "stdout",
     "output_type": "stream",
     "text": [
      "Closed requests were open for an average of 1.1 days\n",
      "The shortest time open was -8 days\n",
      "The longest time open was 27 days\n"
     ]
    }
   ],
   "source": [
    "# QUESTION: What is the average time (in days) a request remains open for?\n",
    "#           What is the maximum time? Minumum time?\n",
    "\n",
    "days_open = list()\n",
    "\n",
    "for i, timestamp in enumerate(data['Closed Date']):\n",
    "    \n",
    "    # if closed date is not null\n",
    "    if timestamp != '':\n",
    "        date, time, am_pm = timestamp.split()\n",
    "        \n",
    "        month, close_day, year = date.split('/')\n",
    "        \n",
    "        # get associated open date\n",
    "        open_date = data['Created Date'][i]\n",
    "        \n",
    "        month, open_day, year = open_date.split('/')\n",
    "        \n",
    "        # record days between closing and opening of request\n",
    "        days_open.append(int(close_day) - int(open_day))\n",
    "        \n",
    "print('Closed requests were open for an average of {:.2} days'.format(sum(days_open)/len(days_open)))\n",
    "print('The shortest time open was {} days'.format(min(days_open)))\n",
    "print('The longest time open was {} days'.format(max(days_open)))\n",
    "\n",
    "# NOTE: Shortest time returns...-8 days. See next question"
   ]
  },
  {
   "cell_type": "code",
   "execution_count": 10,
   "metadata": {},
   "outputs": [
    {
     "name": "stdout",
     "output_type": "stream",
     "text": [
      "417 entries closed before they were opened\n"
     ]
    }
   ],
   "source": [
    "# QUESTION: How have requests been closed for a negative number of days??\n",
    "\n",
    "# to start, record index where closed date is before open date\n",
    "weird_indexes = dict()\n",
    "\n",
    "for i, timestamp in enumerate(data['Closed Date']):\n",
    "    if timestamp != '':\n",
    "        date, time, __ = timestamp.split()\n",
    "        \n",
    "        month, close_day, year = date.split('/')\n",
    "        \n",
    "        # open date\n",
    "        open_date = data['Created Date'][i]\n",
    "        \n",
    "        month, open_day, year = open_date.split('/')\n",
    "        \n",
    "        diff = int(close_day) - int(open_day)\n",
    "        \n",
    "        if diff < 0:\n",
    "            weird_indexes[i] = diff\n",
    "            \n",
    "print('{} entries closed before they were opened'.format(len(weird_indexes)))"
   ]
  },
  {
   "cell_type": "code",
   "execution_count": 11,
   "metadata": {},
   "outputs": [
    {
     "name": "stdout",
     "output_type": "stream",
     "text": [
      "Created: 01/07/2021 11:29:00 AM\n",
      "Closed: 01/06/2021 12:45:00 AM\n",
      "Status: Pending\n",
      "\n",
      "Created: 01/07/2021 11:30:00 AM\n",
      "Closed: 01/06/2021 08:00:00 AM\n",
      "Status: Pending\n",
      "\n",
      "Created: 01/04/2021 09:23:00 AM\n",
      "Closed: 01/03/2021 12:40:00 AM\n",
      "Status: Pending\n",
      "\n",
      "Created: 01/04/2021 09:34:00 AM\n",
      "Closed: 01/03/2021 12:30:00 AM\n",
      "Status: Pending\n",
      "\n",
      "Created: 01/04/2021 08:50:00 AM\n",
      "Closed: 01/03/2021 12:20:00 AM\n",
      "Status: Pending\n",
      "\n"
     ]
    }
   ],
   "source": [
    "# see just the first 5 records\n",
    "for index in list(weird_indexes.keys())[:5]:\n",
    "    print('Created:', data['Created Date'][index])\n",
    "    print('Closed:', data['Closed Date'][index])\n",
    "    print('Status:', data['Status'][index])\n",
    "    print()"
   ]
  },
  {
   "cell_type": "code",
   "execution_count": 12,
   "metadata": {},
   "outputs": [
    {
     "name": "stdout",
     "output_type": "stream",
     "text": [
      "Created: 01/09/2021 08:06:00 AM\n",
      "Closed: 01/01/1900 12:00:00 AM\n",
      "Status: Open\n",
      "\n",
      "Created: 01/09/2021 08:54:00 AM\n",
      "Closed: 01/01/1900 12:00:00 AM\n",
      "Status: Open\n",
      "\n",
      "Created: 01/09/2021 09:14:00 AM\n",
      "Closed: 01/01/1900 12:00:00 AM\n",
      "Status: Open\n",
      "\n",
      "Created: 01/09/2021 08:51:00 AM\n",
      "Closed: 01/01/1900 12:00:00 AM\n",
      "Status: Open\n",
      "\n",
      "Created: 01/09/2021 09:11:00 AM\n",
      "Closed: 01/01/1900 12:00:00 AM\n",
      "Status: Open\n",
      "\n"
     ]
    }
   ],
   "source": [
    "# look at sample of records with 8 day difference\n",
    "display = 5\n",
    "\n",
    "for index, diff in weird_indexes.items():\n",
    "    if diff == -8 and display >0:\n",
    "        print('Created:', data['Created Date'][index])\n",
    "        print('Closed:', data['Closed Date'][index])\n",
    "        print('Status:', data['Status'][index])\n",
    "        print()\n",
    "        display -= 1"
   ]
  },
  {
   "cell_type": "code",
   "execution_count": 14,
   "metadata": {},
   "outputs": [
    {
     "name": "stdout",
     "output_type": "stream",
     "text": [
      "Closed requests were open for an average of 1.1 days\n",
      "The shortest time open was 0 days\n",
      "The longest time open was 14 days\n"
     ]
    }
   ],
   "source": [
    "# TAKE 2:   What is the average time (in days) a request remains open for?\n",
    "#           What is the maximum time? Minumum time?\n",
    "\n",
    "days_open = list()\n",
    "\n",
    "for i, status in enumerate(data['Status']):\n",
    "    if status == 'Closed':\n",
    "        close_timestamp = data['Closed Date'][i]\n",
    "        \n",
    "        if close_timestamp != '':\n",
    "            close_date, time, __ = close_timestamp.split()\n",
    "\n",
    "            month, close_day, year = close_date.split('/')\n",
    "\n",
    "            # open date\n",
    "            open_date = data['Created Date'][i]\n",
    "\n",
    "            month, open_day, year = open_date.split('/')\n",
    "\n",
    "            days_open.append(int(close_day) - int(open_day))\n",
    "        \n",
    "print('Closed requests were open for an average of {:.2} days'.format(sum(days_open)/len(days_open)))\n",
    "print('The shortest time open was {} days'.format(min(days_open)))\n",
    "print('The longest time open was {} days'.format(max(days_open)))"
   ]
  },
  {
   "cell_type": "code",
   "execution_count": null,
   "metadata": {},
   "outputs": [],
   "source": []
  },
  {
   "cell_type": "code",
   "execution_count": null,
   "metadata": {},
   "outputs": [],
   "source": []
  },
  {
   "cell_type": "code",
   "execution_count": null,
   "metadata": {},
   "outputs": [],
   "source": []
  },
  {
   "cell_type": "code",
   "execution_count": null,
   "metadata": {},
   "outputs": [],
   "source": []
  },
  {
   "cell_type": "code",
   "execution_count": null,
   "metadata": {},
   "outputs": [],
   "source": []
  },
  {
   "cell_type": "code",
   "execution_count": null,
   "metadata": {},
   "outputs": [],
   "source": []
  }
 ],
 "metadata": {
  "kernelspec": {
   "display_name": "Python 3",
   "language": "python",
   "name": "python3"
  },
  "language_info": {
   "codemirror_mode": {
    "name": "ipython",
    "version": 3
   },
   "file_extension": ".py",
   "mimetype": "text/x-python",
   "name": "python",
   "nbconvert_exporter": "python",
   "pygments_lexer": "ipython3",
   "version": "3.8.6"
  }
 },
 "nbformat": 4,
 "nbformat_minor": 4
}
