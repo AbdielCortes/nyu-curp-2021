{
 "cells": [
  {
   "cell_type": "markdown",
   "metadata": {},
   "source": [
    "# Working with Data:\n",
    "### New York City 311 Requests Made in 2021\n",
    "\n",
    "`311_Service_Requests_2021.csv` contains data on all Service Requests (SR) made to NYC's 311 in the first half of January, 2021. Select fields have been retained, as described below. Full data are available at https://data.cityofnewyork.us/Social-Services/311-Service-Requests-from-2010-to-Present/erm2-nwe9\n",
    "\n",
    "\n",
    "### This Notebook\n",
    "Contains code that **will throw errors** while attempting to do basic analysis of the dataset. Working solutions can beb found in `Part 3 -- Exercise Solutions`. Try to get your code working before you check there, though!\n",
    "\n",
    "### Data Fields:\n",
    "\n",
    "`Unique Key`: Unique identifier of a Service Request (SR) in the open data set\n",
    "\n",
    "`Created Date`: Date SR was created\n",
    "\n",
    "`Closed Date`: Date SR was closed by responding agency\n",
    "\n",
    "`Agency`: Acronym of responding City Government Agency\n",
    "\n",
    "`Agency Name`: Full Agency name of responding City Government Agency\n",
    "\n",
    "`Complaint Type`: This is the first level of a hierarchy identifying the topic of the incident or condition. Complaint Type may have a corresponding Descriptor (below) or may stand alone.\n",
    "\n",
    "`Descriptor`: This is associated to the Complaint Type, and provides further detail on the incident or condition. Descriptor values are dependent on the Complaint Type, and are not always required in SR.\n",
    "\n",
    "`Location Type`: Describes the type of location used in the address information\n",
    "\n",
    "`Incident Zip`: Incident location zip code, provided by geo validation.\n",
    "\n",
    "`Address Type`: Type of incident location information available.\n",
    "\n",
    "`City`: City of the incident location provided by geovalidation.\n",
    "\n",
    "`Landmark`: If the incident location is identified as a Landmark the name of the landmark will display here\n",
    "\n",
    "`Facility Type`: If available, this field describes the type of city facility associated to the SR\n",
    "\n",
    "`Status`: Status of SR submitted\n",
    "\n",
    "`Due Date`: Date when responding agency is expected to update the SR. This is based on the Complaint Type and internal Service Level Agreements (SLAs).\n",
    "\n",
    "`Resolution Description`: Describes the last action taken on the SR by the responding agency. May describe next or future steps.\n",
    "\n",
    "`Resolution Action Updated Date`: Date when responding agency last updated the SR.\n",
    "\n",
    "`BBL`: Borough Block and Lot, provided by geovalidation. Parcel number to identify the location of location of buildings and properties in NYC.\n",
    "\n",
    "`Borough`: Provided by the submitter and confirmed by geovalidation.\n",
    "\n",
    "`Open Data Channel Type`: Indicates how the SR was submitted to 311. i.e. By Phone, Online, Mobile, Other or Unknown.\n"
   ]
  },
  {
   "cell_type": "markdown",
   "metadata": {},
   "source": [
    "# Intro and Setup\n",
    "\n",
    "(This code runs as expected)"
   ]
  },
  {
   "cell_type": "code",
   "execution_count": null,
   "metadata": {},
   "outputs": [],
   "source": [
    "# --------- Global variables ------------#\n",
    "filename = '311_Service_Requests_2021.txt'"
   ]
  },
  {
   "cell_type": "code",
   "execution_count": null,
   "metadata": {},
   "outputs": [],
   "source": [
    "# Load data as a dictionary of form:\n",
    "# {key: [values]}\n",
    "\n",
    "# NOTE: Pandas (https://pandas.pydata.org) is a common package for working with \n",
    "#       table data. Here, though, we'll do all analysis in base Python\n",
    "\n",
    "data = dict()\n",
    "\n",
    "with open(filename, 'r') as fp:\n",
    "    \n",
    "    # for each line of data\n",
    "    for i, line in enumerate(fp.readlines()):\n",
    "        \n",
    "        # strip any white space and split using tabs ('\\t')\n",
    "        line = line.strip().split('\\t')\n",
    "        \n",
    "        if i == 0:\n",
    "            # the first row contains header values\n",
    "            header = line\n",
    "            \n",
    "            # make these header values the keys of the dictionary\n",
    "            for key in header:\n",
    "                data.setdefault(key, list())\n",
    "                \n",
    "        else:\n",
    "            # for all lines past the first, append value to appropriate header list\n",
    "            for key, value in zip(header, line):\n",
    "                data[key].append(value)\n",
    "                \n",
    "# Now we have a dictionary where the i index of every value list represents the same row of data"
   ]
  },
  {
   "cell_type": "code",
   "execution_count": null,
   "metadata": {},
   "outputs": [],
   "source": [
    "# Look at sample of data\n",
    "\n",
    "for key, values in data.items():\n",
    "    print(key, values[:2]) # print first two \"rows\" of data"
   ]
  },
  {
   "cell_type": "markdown",
   "metadata": {},
   "source": [
    "# Questions and Exercises\n",
    "\n",
    "This code will ask and (attempt to) answer questions about the dataset. However, this Notebook contains **broken code that will throw errors**. Your task is to debug the code."
   ]
  },
  {
   "cell_type": "code",
   "execution_count": null,
   "metadata": {},
   "outputs": [],
   "source": [
    "# QUESTION: How many Service Requests are in this dataset?\n",
    "    \n",
    "print('There are {} service requests.'.format(len(data)))\n",
    "\n",
    "# Answer: There are 90271 service requests."
   ]
  },
  {
   "cell_type": "code",
   "execution_count": null,
   "metadata": {},
   "outputs": [],
   "source": [
    "# QUESTION: What is the most recent day of created requests included in this dataset?\n",
    "\n",
    "# TIPS: the dates are *not* in order\n",
    "#       All Service Requests were created in Jan 2021 (eg, month and year don't change)\n",
    "#       'Created Date' is a string of format: '01/09/2021 11:56:15 AM'\n",
    "\n",
    "last_day = 0 \n",
    "\n",
    "for timestamp in data['Created Date']:   \n",
    "    date, time = timestamp.split() # splits on space by default\n",
    "            \n",
    "    month, day, year = date.split('/')\n",
    "            \n",
    "    if int(day) > last_day:\n",
    "        last_day = int(day) # keep record of highest day\n",
    "            \n",
    "print('The last date is 1/{}/21'.format(last_day))\n",
    "# A: The last date is 1/16/21"
   ]
  },
  {
   "cell_type": "code",
   "execution_count": null,
   "metadata": {},
   "outputs": [],
   "source": [
    "# QUESTION: What are the top five most common \"Complaint Type\"s?\n",
    "\n",
    "complaint_counts = dict()\n",
    "\n",
    "for complaint in data['Complaint Type']:\n",
    "    # for each new type we see, add to dict with default of 0 occurances\n",
    "    complaint_counts.setdefault(comp, 0)\n",
    "    \n",
    "    # iterate count\n",
    "    complaint_counts[complaint] += 1\n",
    "    \n",
    "# sort this dictionary by value from highest count to lowest\n",
    "top_complaints = dict((k, v) for k, v in sorted(complaint_counts.items(),\n",
    "                  key=lambda item: item[1], reverse=True))\n",
    "# read more about lambda functions: https://docs.python.org/3/tutorial/controlflow.html#lambda-expressions\n",
    "\n",
    "print('Top complaint types:')\n",
    "for i, (key, val) in enumerate(top_complaints.items()):\n",
    "    if i < 5:\n",
    "        print('   {}. {}: {} complaints'.format(i + 1, key, val))"
   ]
  },
  {
   "cell_type": "code",
   "execution_count": null,
   "metadata": {},
   "outputs": [],
   "source": [
    "# QUESTION: What percent of Service Requests are closed?\n",
    "closed = data['Status'].count('Closed')\n",
    "\n",
    "print('{} ({:.2%}) of service requests are closed'.format(len(closed), len(closed)/len(data['Status'])))\n",
    "#A: 69390 (76.87%) of service requests are closed"
   ]
  },
  {
   "cell_type": "code",
   "execution_count": null,
   "metadata": {},
   "outputs": [],
   "source": [
    "# QUESTION: How often are different \"Open Data Channel Type\" used to submit service requests?\n",
    "\n",
    "for channel in data['Open Data Channel Type']:\n",
    "    count = data['Open Data Channel Type'].count(channel)\n",
    "\n",
    "    print('Channel {} is used {} ({:.2%}) of the time'.format(channel, \n",
    "                                                              count, \n",
    "                                                              count/len(data['Open Data Channel Type'])))"
   ]
  },
  {
   "cell_type": "code",
   "execution_count": null,
   "metadata": {},
   "outputs": [],
   "source": [
    "# QUESTION: What is the average time (in days) a request remains open for?\n",
    "#           What is the maximum time? Minumum time?\n",
    "\n",
    "days_open = list()\n",
    "\n",
    "for i, timestamp in enumerate(data['Closed Date']):\n",
    "    \n",
    "    # if closed date is not null\n",
    "    if timestamp != '':\n",
    "        date, time, am_pm = timestamp.split()\n",
    "        \n",
    "        month, close_day, year = date.split()\n",
    "        \n",
    "        # get associated open date\n",
    "        open_date = data['Created Date']\n",
    "        \n",
    "        month, open_day, year = open_date.split('/')\n",
    "        \n",
    "        # record days between closing and opening of request\n",
    "        days_open.append(int(close_day) - int(open_day))\n",
    "        \n",
    "print('Closed requests were open for an average of {:.2} days'.format(sum(days_open)/len(days_open)))\n",
    "print('The shortest time open was {} days'.format(min(days_open)))\n",
    "print('The longest time open was {} days'.format(max(days_open)))\n",
    "\n",
    "# Answers:\n",
    "# Closed requests were open for an average of 1.1 days\n",
    "# The shortest time open was -8 days  <--- this is negative! (see below)\n",
    "# The longest time open was 27 days"
   ]
  },
  {
   "cell_type": "code",
   "execution_count": null,
   "metadata": {},
   "outputs": [],
   "source": [
    "# QUESTION: How have requests been closed for a negative number of days??\n",
    "\n",
    "# to start, record index where closed date is before open date\n",
    "weird_indexes = dict()\n",
    "\n",
    "for i, timestamp in enumerate(data['Closed Date']):\n",
    "    if timestamp == '':\n",
    "        date, time, __ = timestamp.split()\n",
    "        \n",
    "        month, close_day, year = date.split('/')\n",
    "        \n",
    "        # open date\n",
    "        open_date = data['Created Date'][i]\n",
    "        \n",
    "        month, open_day, year = open_date.split('/')\n",
    "        \n",
    "        diff = int(close_day) - int(open_day)\n",
    "        \n",
    "        if diff < 0:\n",
    "            weird_indexes[i] = diff\n",
    "            \n",
    "print('{} entries closed before they were opened'.format(len(weird_indexes)))"
   ]
  },
  {
   "cell_type": "code",
   "execution_count": null,
   "metadata": {},
   "outputs": [],
   "source": [
    "# see just the first 5 records\n",
    "for index in weird_indexes.keys()[:5]:\n",
    "    print('Created:', data['Created Date'][index])\n",
    "    print('Closed:', data['Closed Date'][index])\n",
    "    print('Status:', data['Status'][index])\n",
    "    print()"
   ]
  },
  {
   "cell_type": "code",
   "execution_count": null,
   "metadata": {},
   "outputs": [],
   "source": [
    "# look at sample of records with 8 day difference\n",
    "display = 5\n",
    "\n",
    "for index, diff in weird_indexes:\n",
    "    if diff == -8 and display >0:\n",
    "        print('Created:', data['Created Date'][index])\n",
    "        print('Closed:', data['Closed Date'][index])\n",
    "        print('Status:', data['Status'][index])\n",
    "        print()\n",
    "        display -= 1"
   ]
  },
  {
   "cell_type": "code",
   "execution_count": null,
   "metadata": {},
   "outputs": [],
   "source": [
    "# TAKE 2:   What is the average time (in days) a request remains open for?\n",
    "#           What is the maximum time? Minumum time?\n",
    "\n",
    "days_open = set()\n",
    "\n",
    "for i, status in enumerate(data['Status']):\n",
    "    if status == 'Closed':\n",
    "        close_timestamp = data['Closed Date'][i]\n",
    "        \n",
    "        if end_timestamp != '':\n",
    "            close_date, time, __ = close_timestamp.split()\n",
    "\n",
    "            month, close_day, year = close_date.split('/')\n",
    "\n",
    "            # open date\n",
    "            open_date = data['Created Date'][i]\n",
    "\n",
    "            month, open_day, year = open_date.split('/')\n",
    "\n",
    "            days_open.append(int(close_day) - int(open_day))\n",
    "        \n",
    "print('Closed requests were open for an average of {:.2} days'.format(sum(days_open)/len(days_open)))\n",
    "print('The shortest time open was {} days'.format(min(days_open)))\n",
    "print('The longest time open was {} days'.format(max(days_open)))"
   ]
  },
  {
   "cell_type": "code",
   "execution_count": null,
   "metadata": {},
   "outputs": [],
   "source": []
  },
  {
   "cell_type": "markdown",
   "metadata": {},
   "source": [
    "# Bonus\n",
    "If you have extra time -- what questions do you have of the data?"
   ]
  },
  {
   "cell_type": "code",
   "execution_count": null,
   "metadata": {},
   "outputs": [],
   "source": []
  },
  {
   "cell_type": "code",
   "execution_count": null,
   "metadata": {},
   "outputs": [],
   "source": []
  },
  {
   "cell_type": "code",
   "execution_count": null,
   "metadata": {},
   "outputs": [],
   "source": []
  },
  {
   "cell_type": "code",
   "execution_count": null,
   "metadata": {},
   "outputs": [],
   "source": []
  }
 ],
 "metadata": {
  "kernelspec": {
   "display_name": "Python 3",
   "language": "python",
   "name": "python3"
  },
  "language_info": {
   "codemirror_mode": {
    "name": "ipython",
    "version": 3
   },
   "file_extension": ".py",
   "mimetype": "text/x-python",
   "name": "python",
   "nbconvert_exporter": "python",
   "pygments_lexer": "ipython3",
   "version": "3.8.6"
  }
 },
 "nbformat": 4,
 "nbformat_minor": 4
}
