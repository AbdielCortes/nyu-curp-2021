{
 "cells": [
  {
   "cell_type": "markdown",
   "metadata": {},
   "source": [
    "# Bootcamp Day 1: Lists, Loops, Conditional Statements\n",
    "\n",
    "\n",
    "### Agenda:\n",
    "1. **Data types** -- Examples (This Notebook, Part 1 -- Python Basics)\n",
    "2. **Loops and conditionals** -- Examples (This Notebook, Part 1 -- Python Basics)\n",
    "3. **Group work**: Troubleshoot broken code (Notebook 2, Part 2 -- Exercises)\n",
    "4. Discuss and close\n",
    "\n",
    "### About Me:\n",
    "Dr. Sarah Shugars (_they/she_)\n",
    "sarah.shugars@nyu.edu\n",
    "\n",
    "I am a computational social scientist -- eg, I use computational methods to study social questions. I also teach the first class for NYU's data science major: _Data Science for Everyone_. **Please reach out any time if you have questions or if there's anything I can support you with**."
   ]
  },
  {
   "cell_type": "markdown",
   "metadata": {},
   "source": [
    "# Part 1: Types\n",
    "\n",
    "Learn more: https://docs.python.org/3/library/stdtypes.html\n",
    "\n",
    "Some key types:\n",
    "* numeric: `int`, `float`\n",
    "* string: `str` \n",
    "* sequence types: `list`, `range`      <-- Ordered\n",
    "* `set`         <--  Unordered\n",
    "* dictionary: `dict` "
   ]
  },
  {
   "cell_type": "markdown",
   "metadata": {},
   "source": [
    "###  Numeric examples\n",
    "--> `ints` are whole numbers, `floats` have decimals"
   ]
  },
  {
   "cell_type": "code",
   "execution_count": 1,
   "metadata": {},
   "outputs": [
    {
     "name": "stdout",
     "output_type": "stream",
     "text": [
      "1 <class 'int'>\n",
      "1.0 <class 'float'>\n"
     ]
    }
   ],
   "source": [
    "example_int = 1    # This is an int\n",
    "example_float = 1. # This is a float\n",
    "\n",
    "# can use type to check type:\n",
    "print(example_int, type(example_int))\n",
    "print(example_float, type(example_float))"
   ]
  },
  {
   "cell_type": "code",
   "execution_count": 2,
   "metadata": {},
   "outputs": [
    {
     "name": "stdout",
     "output_type": "stream",
     "text": [
      "3.0 <class 'float'>\n"
     ]
    }
   ],
   "source": [
    "# division defaults to float\n",
    "division_result = 12 / 4\n",
    "print(division_result, type(division_result))"
   ]
  },
  {
   "cell_type": "code",
   "execution_count": 3,
   "metadata": {},
   "outputs": [
    {
     "name": "stdout",
     "output_type": "stream",
     "text": [
      "0.9 <class 'float'>\n",
      "0 <class 'int'>\n",
      "0 <class 'int'>\n"
     ]
    }
   ],
   "source": [
    "# Can coerce to an int if you want to, BUT will round down\n",
    "# Can round up with numpy (covered on day 3)\n",
    "\n",
    "# true value\n",
    "division_result = 9 / 10\n",
    "print(division_result, type(division_result))\n",
    "\n",
    "# one way to coerce to int\n",
    "division_result = int(9 / 10)\n",
    "print(division_result, type(division_result))\n",
    "\n",
    "# another way to coerce to int\n",
    "division_result = 9 // 10\n",
    "print(division_result, type(division_result))"
   ]
  },
  {
   "cell_type": "code",
   "execution_count": 4,
   "metadata": {},
   "outputs": [
    {
     "name": "stdout",
     "output_type": "stream",
     "text": [
      "3 is equal to 3.0\n"
     ]
    }
   ],
   "source": [
    "# Equality generally works as expected (BUT, be careful when comparing long floats!!)\n",
    "int_three = 3\n",
    "float_three = 3.0\n",
    "\n",
    "if int_three == float_three:\n",
    "    print(int_three, 'is equal to', float_three)\n",
    "else:\n",
    "    print(int_three, 'is NOT equal to', float_three)"
   ]
  },
  {
   "cell_type": "markdown",
   "metadata": {},
   "source": [
    "### String examples\n",
    "Strings (`str`) capture sequences of text"
   ]
  },
  {
   "cell_type": "code",
   "execution_count": 5,
   "metadata": {},
   "outputs": [
    {
     "name": "stdout",
     "output_type": "stream",
     "text": [
      "a <class 'str'>\n",
      "This is a long string! <class 'str'>\n"
     ]
    }
   ],
   "source": [
    "# strings can be any length\n",
    "character = 'a'\n",
    "long_str = 'This is a long string!'\n",
    "\n",
    "print(character, type(character))\n",
    "print(long_str, type(long_str))"
   ]
  },
  {
   "cell_type": "code",
   "execution_count": 6,
   "metadata": {},
   "outputs": [
    {
     "name": "stdout",
     "output_type": "stream",
     "text": [
      "a <class 'str'>\n",
      "This is a long string! <class 'str'>\n"
     ]
    }
   ],
   "source": [
    "# can use single or double quotes\n",
    "character = \"a\"\n",
    "long_str = \"This is a long string!\"\n",
    "\n",
    "print(character, type(character))\n",
    "print(long_str, type(long_str))"
   ]
  },
  {
   "cell_type": "markdown",
   "metadata": {},
   "source": [
    "### List examples\n",
    "Ordered sequence of elements"
   ]
  },
  {
   "cell_type": "code",
   "execution_count": 7,
   "metadata": {},
   "outputs": [
    {
     "name": "stdout",
     "output_type": "stream",
     "text": [
      "list_ex1 is an empty list: []\n",
      "list_ex2 is an empty list: []\n"
     ]
    }
   ],
   "source": [
    "# can initialize an empty list as either:\n",
    "list_ex1 = list()\n",
    "list_ex2 = []\n",
    "\n",
    "print('list_ex1 is an empty list:', list_ex1)\n",
    "print('list_ex2 is an empty list:', list_ex2)"
   ]
  },
  {
   "cell_type": "code",
   "execution_count": 8,
   "metadata": {},
   "outputs": [
    {
     "name": "stdout",
     "output_type": "stream",
     "text": [
      "list_ex1 now has numbers: [1, 2, 3]\n",
      "list_ex2 now has letters: ['a', 'b']\n"
     ]
    }
   ],
   "source": [
    "# can initialize a list with values as either:\n",
    "list_ex1 = list([1,2,3])\n",
    "list_ex2 = ['a', 'b']\n",
    "\n",
    "print('list_ex1 now has numbers:', list_ex1)\n",
    "print('list_ex2 now has letters:', list_ex2)"
   ]
  },
  {
   "cell_type": "code",
   "execution_count": 9,
   "metadata": {},
   "outputs": [
    {
     "name": "stdout",
     "output_type": "stream",
     "text": [
      "[1, 1.0, 'a']\n"
     ]
    }
   ],
   "source": [
    "# lists can also have mixed types:\n",
    "list_ex3 = [1, 1.0, 'a']\n",
    "print(list_ex3)"
   ]
  },
  {
   "cell_type": "code",
   "execution_count": 10,
   "metadata": {},
   "outputs": [
    {
     "name": "stdout",
     "output_type": "stream",
     "text": [
      "list_ex1: <class 'list'>\n",
      "list_ex2: <class 'list'>\n",
      "list_ex3: <class 'list'>\n"
     ]
    }
   ],
   "source": [
    "# check the type:\n",
    "print('list_ex1:', type(list_ex1))\n",
    "print('list_ex2:', type(list_ex2))\n",
    "print('list_ex3:', type(list_ex3))"
   ]
  },
  {
   "cell_type": "code",
   "execution_count": 11,
   "metadata": {},
   "outputs": [
    {
     "name": "stdout",
     "output_type": "stream",
     "text": [
      "3 2\n",
      "list_ex1 has 3 numbers\n",
      "list_ex2 has 2 letters\n"
     ]
    }
   ],
   "source": [
    "# check the length of a list using len:\n",
    "print(len(list_ex1), len(list_ex2))\n",
    "\n",
    "# make this more readable\n",
    "print('list_ex1 has {} numbers'.format(len(list_ex1)))\n",
    "print('list_ex2 has {} letters'.format(len(list_ex2)))"
   ]
  },
  {
   "cell_type": "code",
   "execution_count": 12,
   "metadata": {},
   "outputs": [
    {
     "name": "stdout",
     "output_type": "stream",
     "text": [
      "['a', 'b', 'c']\n",
      "['a', 'b', 'b', 'c']\n",
      "['a', 'b', 'c']\n",
      "c\n",
      "['a', 'b']\n"
     ]
    }
   ],
   "source": [
    "# can add and remove items from list\n",
    "list_ex2.append('c') # add the letter 'c' to the end\n",
    "print(list_ex2)\n",
    "\n",
    "list_ex2.insert(2, 'b') # insert the letter 'b' into index 2\n",
    "print(list_ex2)\n",
    "\n",
    "list_ex2.remove('b') # remove the first occurance of b\n",
    "print(list_ex2)\n",
    "\n",
    "value = list_ex2.pop() # remove and return the last item in the list\n",
    "print(value) # the last item\n",
    "print(list_ex2) # the list, now missing 'c'"
   ]
  },
  {
   "cell_type": "code",
   "execution_count": 13,
   "metadata": {},
   "outputs": [
    {
     "name": "stdout",
     "output_type": "stream",
     "text": [
      "The 0th element of list_ex1 is: 1\n",
      "The element at index 1 of list_ex1 is: 2\n",
      "The element at index 2 of list_ex1 is: 3\n",
      "\n",
      "The last element of list_ex1 is: 3\n",
      "The second to last element of list_ex1 is: 2\n"
     ]
    }
   ],
   "source": [
    "# lists are ORDERED, so we can call specific elements (0 indexed)\n",
    "print('The 0th element of list_ex1 is:', list_ex1[0])\n",
    "print('The element at index 1 of list_ex1 is:', list_ex1[1])\n",
    "print('The element at index 2 of list_ex1 is:', list_ex1[2])\n",
    "print()\n",
    "\n",
    "# can also use negative values to call elements in reverse order\n",
    "print('The last element of list_ex1 is:', list_ex1[-1]) \n",
    "print('The second to last element of list_ex1 is:', list_ex1[-2]) "
   ]
  },
  {
   "cell_type": "markdown",
   "metadata": {},
   "source": [
    "### Strings as lists\n",
    "* Strings and lists are both ordered sequences\n",
    "* Some strings (eg, sentences) can be treated as lists of strings (eg, words)"
   ]
  },
  {
   "cell_type": "code",
   "execution_count": 14,
   "metadata": {},
   "outputs": [
    {
     "name": "stdout",
     "output_type": "stream",
     "text": [
      "This is a long string!\n",
      "The 0th element of long_str is T\n",
      "The last element of long_str is !\n"
     ]
    }
   ],
   "source": [
    "long_str = 'This is a long string!'\n",
    "print(long_str)\n",
    "print('The 0th element of long_str is', long_str[0])\n",
    "print('The last element of long_str is', long_str[-1])"
   ]
  },
  {
   "cell_type": "code",
   "execution_count": 15,
   "metadata": {},
   "outputs": [
    {
     "name": "stdout",
     "output_type": "stream",
     "text": [
      "['This', 'is', 'a', 'long', 'string!']\n"
     ]
    }
   ],
   "source": [
    "# strings can be split into lists\n",
    "words = long_str.split(' ') # split on space\n",
    "\n",
    "print(words)"
   ]
  },
  {
   "cell_type": "code",
   "execution_count": 16,
   "metadata": {},
   "outputs": [
    {
     "name": "stdout",
     "output_type": "stream",
     "text": [
      "This is a long string!\n"
     ]
    }
   ],
   "source": [
    "# a list of strings can be joined into a string\n",
    "\n",
    "sentence = ' '.join(words)\n",
    "print(sentence)"
   ]
  },
  {
   "cell_type": "markdown",
   "metadata": {},
   "source": [
    "### Set examples\n",
    "`sets` are **unordered** collections of **distinct** objects\n"
   ]
  },
  {
   "cell_type": "code",
   "execution_count": 17,
   "metadata": {},
   "outputs": [
    {
     "name": "stdout",
     "output_type": "stream",
     "text": [
      "set_ex1 is an empty set: set()\n",
      "set_ex1 is now {1, 2, 3}\n",
      "set_ex1 is of type <class 'set'>\n"
     ]
    }
   ],
   "source": [
    "# initialize an empty set:\n",
    "set_ex1 = set()\n",
    "print('set_ex1 is an empty set:', set_ex1)\n",
    "\n",
    "# initize a set with values:\n",
    "set_ex1 = set([1, 2, 3])\n",
    "print('set_ex1 is now', set_ex1)\n",
    "print('set_ex1 is of type', type(set_ex1))"
   ]
  },
  {
   "cell_type": "code",
   "execution_count": 18,
   "metadata": {},
   "outputs": [
    {
     "name": "stdout",
     "output_type": "stream",
     "text": [
      "{1, 2, 3, 4}\n"
     ]
    }
   ],
   "source": [
    "# can add items to a set\n",
    "set_ex1.add(4)\n",
    "print(set_ex1)"
   ]
  },
  {
   "cell_type": "code",
   "execution_count": 19,
   "metadata": {},
   "outputs": [
    {
     "name": "stdout",
     "output_type": "stream",
     "text": [
      "{1, 2, 3, 4}\n"
     ]
    }
   ],
   "source": [
    "# trying to add an existing element will NOT throw an error or change the set\n",
    "set_ex1.add(1)\n",
    "print(set_ex1)"
   ]
  },
  {
   "cell_type": "code",
   "execution_count": 20,
   "metadata": {},
   "outputs": [
    {
     "ename": "TypeError",
     "evalue": "'set' object is not subscriptable",
     "output_type": "error",
     "traceback": [
      "\u001b[0;31m---------------------------------------------------------------------------\u001b[0m",
      "\u001b[0;31mTypeError\u001b[0m                                 Traceback (most recent call last)",
      "\u001b[0;32m<ipython-input-20-350f6213c65a>\u001b[0m in \u001b[0;36m<module>\u001b[0;34m\u001b[0m\n\u001b[1;32m      1\u001b[0m \u001b[0;31m# sets are UNORDERED so they cannot be indexed\u001b[0m\u001b[0;34m\u001b[0m\u001b[0;34m\u001b[0m\u001b[0;34m\u001b[0m\u001b[0m\n\u001b[0;32m----> 2\u001b[0;31m \u001b[0mprint\u001b[0m\u001b[0;34m(\u001b[0m\u001b[0mset_ex1\u001b[0m\u001b[0;34m[\u001b[0m\u001b[0;36m0\u001b[0m\u001b[0;34m]\u001b[0m\u001b[0;34m)\u001b[0m \u001b[0;31m# This will throw a type error\u001b[0m\u001b[0;34m\u001b[0m\u001b[0;34m\u001b[0m\u001b[0m\n\u001b[0m",
      "\u001b[0;31mTypeError\u001b[0m: 'set' object is not subscriptable"
     ]
    }
   ],
   "source": [
    "# sets are UNORDERED so they cannot be indexed\n",
    "print(set_ex1[0]) # This will throw a type error"
   ]
  },
  {
   "cell_type": "code",
   "execution_count": 21,
   "metadata": {},
   "outputs": [
    {
     "name": "stdout",
     "output_type": "stream",
     "text": [
      "[1, 2, 2, 1, 3, 1, 2, 3]\n",
      "8\n",
      "{1, 2, 3}\n",
      "3\n"
     ]
    }
   ],
   "source": [
    "# can de-duplicate by turning a list into a set\n",
    "repeat_list = [1,2,2,1,3,1,2,3]\n",
    "clean_set = set(repeat_list)\n",
    "\n",
    "print(repeat_list)\n",
    "print(len(repeat_list))\n",
    "print(clean_set)\n",
    "print(len(clean_set))"
   ]
  },
  {
   "cell_type": "markdown",
   "metadata": {},
   "source": [
    "### Dictionary examples\n",
    "`dicts` provide a mapping between key-value pairs"
   ]
  },
  {
   "cell_type": "code",
   "execution_count": 22,
   "metadata": {},
   "outputs": [
    {
     "name": "stdout",
     "output_type": "stream",
     "text": [
      "dict_ex1 is an empty dictionary: {} <class 'dict'>\n",
      "dict_ex2 is an empty dictionary: {} <class 'dict'>\n"
     ]
    }
   ],
   "source": [
    "# initialize an empty dict as either:\n",
    "dict_ex1 = dict()\n",
    "dict_ex2 = {} # NOTE: this is a dict, not a set\n",
    "\n",
    "print('dict_ex1 is an empty dictionary:', dict_ex1, type(dict_ex1))\n",
    "print('dict_ex2 is an empty dictionary:', dict_ex2, type(dict_ex1))"
   ]
  },
  {
   "cell_type": "code",
   "execution_count": 23,
   "metadata": {},
   "outputs": [
    {
     "name": "stdout",
     "output_type": "stream",
     "text": [
      "{'one': 1, 'two': 2, 'three': 3}\n"
     ]
    }
   ],
   "source": [
    "# can initalize a diction with things in it\n",
    "\n",
    "dict_ex1 = {\n",
    "    'one' : 1,\n",
    "    'two' : 2,\n",
    "    'three' : 3\n",
    "}\n",
    "\n",
    "print(dict_ex1)"
   ]
  },
  {
   "cell_type": "code",
   "execution_count": 24,
   "metadata": {},
   "outputs": [
    {
     "name": "stdout",
     "output_type": "stream",
     "text": [
      "3\n"
     ]
    }
   ],
   "source": [
    "# dictionaries also have a length:\n",
    "print(len(dict_ex1))"
   ]
  },
  {
   "cell_type": "code",
   "execution_count": 25,
   "metadata": {},
   "outputs": [
    {
     "name": "stdout",
     "output_type": "stream",
     "text": [
      "dict_keys(['one', 'two', 'three'])\n"
     ]
    }
   ],
   "source": [
    "# can call just the keys:\n",
    "print(dict_ex1.keys())"
   ]
  },
  {
   "cell_type": "code",
   "execution_count": 26,
   "metadata": {},
   "outputs": [
    {
     "name": "stdout",
     "output_type": "stream",
     "text": [
      "dict_values([1, 2, 3])\n"
     ]
    }
   ],
   "source": [
    "# can call just the values:\n",
    "print(dict_ex1.values())"
   ]
  },
  {
   "cell_type": "code",
   "execution_count": 27,
   "metadata": {},
   "outputs": [
    {
     "name": "stdout",
     "output_type": "stream",
     "text": [
      "2\n"
     ]
    }
   ],
   "source": [
    "### core usage: can \"look up\" values by using keys\n",
    "print(dict_ex1['two'])"
   ]
  },
  {
   "cell_type": "markdown",
   "metadata": {},
   "source": [
    "# Part 2: Loops and Conditionals\n",
    "\n",
    "* `for` loops\n",
    "* `if`, `if/else` statements\n",
    "* `while` statements"
   ]
  },
  {
   "cell_type": "markdown",
   "metadata": {},
   "source": [
    "### `for` loops\n",
    "Iterate over [something] and [do something] `for` every item you iterate over\n",
    "\n",
    "Basic syntax:\n",
    "```\n",
    "for [variable] in [iterable]:\n",
    "    [do something]\n",
    "```\n",
    "\n",
    "* [variable] can be named on the fly -- typically something descriptive of task\n",
    "* [iterable] can be a previously assigned variable or declared in the statement\n",
    "* [do something] can be any action, including `pass`\n",
    "\n",
    "To illustrate `for` loops, we'll also use a new type, `range`: an ordered sequence of integers"
   ]
  },
  {
   "cell_type": "code",
   "execution_count": 28,
   "metadata": {},
   "outputs": [
    {
     "name": "stdout",
     "output_type": "stream",
     "text": [
      "0\n",
      "1\n",
      "2\n",
      "3\n",
      "4\n"
     ]
    }
   ],
   "source": [
    "# range defaults to starting from 0, and is *exclusive* of the ending number\n",
    "for num in range(5):\n",
    "    print(num)"
   ]
  },
  {
   "cell_type": "code",
   "execution_count": 29,
   "metadata": {},
   "outputs": [
    {
     "name": "stdout",
     "output_type": "stream",
     "text": [
      "4\n",
      "6\n",
      "8\n"
     ]
    }
   ],
   "source": [
    "# can change the starting value (default=0) and the step (default=1)\n",
    "for num in range(4, 10, 2):\n",
    "    print(num)"
   ]
  },
  {
   "cell_type": "markdown",
   "metadata": {},
   "source": [
    "### Some helpful things:\n",
    "`enumerate()` -- counts items in an iterable (starting with 0)"
   ]
  },
  {
   "cell_type": "code",
   "execution_count": 30,
   "metadata": {},
   "outputs": [
    {
     "name": "stdout",
     "output_type": "stream",
     "text": [
      "The 0 element is a\n",
      "The 1 element is b\n",
      "The 2 element is c\n",
      "The 3 element is d\n"
     ]
    }
   ],
   "source": [
    "my_list = ['a', 'b', 'c', 'd']\n",
    "\n",
    "for num, letter in enumerate(my_list):\n",
    "    print('The {} element is {}'.format(num, letter))"
   ]
  },
  {
   "cell_type": "markdown",
   "metadata": {},
   "source": [
    "`zip()` interate over items together"
   ]
  },
  {
   "cell_type": "code",
   "execution_count": 31,
   "metadata": {},
   "outputs": [
    {
     "name": "stdout",
     "output_type": "stream",
     "text": [
      "1 a\n",
      "2 b\n",
      "3 c\n",
      "4 d\n"
     ]
    }
   ],
   "source": [
    "numbers = [1, 2, 3, 4, 5]\n",
    "letters = ['a', 'b', 'c', 'd']\n",
    "\n",
    "for num, letter in zip(numbers, letters):\n",
    "    print(num, letter)"
   ]
  },
  {
   "cell_type": "markdown",
   "metadata": {},
   "source": [
    "### `for` loops and list/dictionary comprehensions\n",
    "\n",
    "Create a list or dictionary in a single line by using a `for` loop"
   ]
  },
  {
   "cell_type": "code",
   "execution_count": 32,
   "metadata": {},
   "outputs": [
    {
     "name": "stdout",
     "output_type": "stream",
     "text": [
      "{0: 'a', 1: 'b', 2: 'c', 3: 'd'}\n"
     ]
    }
   ],
   "source": [
    "# make a dictionary with number keys and letter values\n",
    "alpha_dict = dict((num, letter) for num, letter in enumerate(my_list))\n",
    "\n",
    "print(alpha_dict)"
   ]
  },
  {
   "cell_type": "code",
   "execution_count": 33,
   "metadata": {},
   "outputs": [
    {
     "name": "stdout",
     "output_type": "stream",
     "text": [
      "[0, 1, 4, 9, 16]\n"
     ]
    }
   ],
   "source": [
    "# make a list of square values\n",
    "\n",
    "# long way\n",
    "squares = list()\n",
    "\n",
    "for num in range(5):\n",
    "    squares.append(num**2)\n",
    "    \n",
    "print(squares)"
   ]
  },
  {
   "cell_type": "code",
   "execution_count": 34,
   "metadata": {},
   "outputs": [
    {
     "name": "stdout",
     "output_type": "stream",
     "text": [
      "[0, 1, 4, 9, 16]\n"
     ]
    }
   ],
   "source": [
    "# the short way\n",
    "squares = [num**2 for num in range(5)]\n",
    "print(squares)"
   ]
  },
  {
   "cell_type": "code",
   "execution_count": 35,
   "metadata": {},
   "outputs": [
    {
     "name": "stdout",
     "output_type": "stream",
     "text": [
      "[0, 1, 4, 9, 16]\n"
     ]
    }
   ],
   "source": [
    "# can also write a function that squares numbers\n",
    "def get_square(num):\n",
    "    square = num**2\n",
    "    \n",
    "    return square\n",
    "\n",
    "squares = [get_square(num) for num in range(5)] # call function in list comprehension\n",
    "print(squares)"
   ]
  },
  {
   "cell_type": "markdown",
   "metadata": {},
   "source": [
    "### File input/output"
   ]
  },
  {
   "cell_type": "code",
   "execution_count": 36,
   "metadata": {},
   "outputs": [],
   "source": [
    "# write list of square values to file\n",
    "\n",
    "with open('squares.tsv', 'w') as fp:\n",
    "    for val in squares:\n",
    "        fp.write(str(val) + '\\n') # note: have to coerce to string"
   ]
  },
  {
   "cell_type": "code",
   "execution_count": 37,
   "metadata": {},
   "outputs": [
    {
     "name": "stdout",
     "output_type": "stream",
     "text": [
      "[0, 1, 4, 9, 16]\n"
     ]
    }
   ],
   "source": [
    "# read list of squares from file:\n",
    "loaded_squares = list()\n",
    "\n",
    "with open('squares.tsv', 'r') as fp:\n",
    "    for line in fp.readlines():\n",
    "        loaded_squares.append(int(line)) # coerce back to int\n",
    "        \n",
    "print(loaded_squares)"
   ]
  },
  {
   "cell_type": "markdown",
   "metadata": {},
   "source": [
    "### `if` statements\n",
    "Excute various tasks based on conditions. \n",
    "\n",
    "Basic syntax:\n",
    "\n",
    "```\n",
    "if [boolean expression evaluates to True]:\n",
    "    [do something]\n",
    "elif [boolean expression evaluates to True]:\n",
    "    [do something]\n",
    "else:\n",
    "    [do something]\n",
    "```\n",
    "\n",
    "**Boolean expressions** evaluate to `True` or `False`\n",
    "\n",
    "Statements are considered *in order* and the first `True` statement is executed."
   ]
  },
  {
   "cell_type": "code",
   "execution_count": 38,
   "metadata": {},
   "outputs": [
    {
     "name": "stdout",
     "output_type": "stream",
     "text": [
      "Number is 2\n"
     ]
    }
   ],
   "source": [
    "number = 2\n",
    "\n",
    "if number == 2:\n",
    "    print('Number is 2')\n",
    "elif number**2 == 4: ### this is never evaluated\n",
    "    print('The number squared is 4')\n",
    "else:\n",
    "    print('Something else')"
   ]
  },
  {
   "cell_type": "markdown",
   "metadata": {},
   "source": [
    "### `if` statements and `for` loops\n",
    "\n",
    "Can iterate over values and do different actions for different values"
   ]
  },
  {
   "cell_type": "code",
   "execution_count": 39,
   "metadata": {},
   "outputs": [
    {
     "name": "stdout",
     "output_type": "stream",
     "text": [
      "1\n",
      "3\n",
      "5\n",
      "Numbers in list: [0, 2, 4, 6]\n"
     ]
    }
   ],
   "source": [
    "# print odd numbers, save even numbers to list\n",
    "even_numbers = list()\n",
    "\n",
    "for i in range(7):\n",
    "    if i%2 == 0: # mod operator -- is i divisible by 2?\n",
    "        even_numbers.append(i)\n",
    "    else:\n",
    "        print(i)\n",
    "\n",
    "print('Numbers in list:', even_numbers)"
   ]
  },
  {
   "cell_type": "code",
   "execution_count": 40,
   "metadata": {},
   "outputs": [
    {
     "name": "stdout",
     "output_type": "stream",
     "text": [
      "0 [0, 3, 6, 9]\n",
      "1 [1, 4, 7]\n",
      "2 [2, 5, 8]\n"
     ]
    }
   ],
   "source": [
    "# make dictionary indicating remaineder when divided by 0\n",
    "ex_dict = dict()\n",
    "\n",
    "for i in range(3):\n",
    "    ex_dict.setdefault(i, list())\n",
    "\n",
    "for i in range(10):\n",
    "    if i%3 == 0:\n",
    "        ex_dict[0].append(i)\n",
    "    elif i%3 == 1:\n",
    "        ex_dict[1].append(i)\n",
    "    elif i%3 == 2:\n",
    "        ex_dict[2].append(i)\n",
    "        \n",
    "# print the results by interating through the keys dictionary\n",
    "for key in ex_dict:\n",
    "    print(key, ex_dict[key])"
   ]
  },
  {
   "cell_type": "code",
   "execution_count": 41,
   "metadata": {},
   "outputs": [
    {
     "name": "stdout",
     "output_type": "stream",
     "text": [
      "3\n"
     ]
    }
   ],
   "source": [
    "# Can have multiple conditions\n",
    "for num in range(5):\n",
    "    if num > 2 and num < 4:  # AND: both conditions need to be True\n",
    "        print(num)"
   ]
  },
  {
   "cell_type": "code",
   "execution_count": 42,
   "metadata": {},
   "outputs": [
    {
     "name": "stdout",
     "output_type": "stream",
     "text": [
      "0\n",
      "1\n",
      "2\n",
      "3\n",
      "4\n"
     ]
    }
   ],
   "source": [
    "for num in range(5):\n",
    "    if num > 2 or num < 4: # OR: either condition can be True; evaluates in order\n",
    "        print(num)"
   ]
  },
  {
   "cell_type": "markdown",
   "metadata": {},
   "source": [
    "### `While` loops\n",
    "Do something `while` something is True -- be careful, can make loops with no end!\n",
    "\n",
    "Mostly helpful when you don't know how many times you need to do something for"
   ]
  },
  {
   "cell_type": "code",
   "execution_count": 43,
   "metadata": {},
   "outputs": [
    {
     "name": "stdout",
     "output_type": "stream",
     "text": [
      "0\n",
      "1\n",
      "2\n",
      "3\n",
      "4\n"
     ]
    }
   ],
   "source": [
    "i = 0 # initialize i at 0\n",
    "\n",
    "while i < 5:\n",
    "    print(i)\n",
    "    i += 1 # iterate value of i or the loop will never end!\n",
    "    \n",
    "# This code produces the same output as\n",
    "#for i in range(5):\n",
    "#    print(i)"
   ]
  },
  {
   "cell_type": "code",
   "execution_count": null,
   "metadata": {},
   "outputs": [],
   "source": []
  }
 ],
 "metadata": {
  "kernelspec": {
   "display_name": "Python 3",
   "language": "python",
   "name": "python3"
  },
  "language_info": {
   "codemirror_mode": {
    "name": "ipython",
    "version": 3
   },
   "file_extension": ".py",
   "mimetype": "text/x-python",
   "name": "python",
   "nbconvert_exporter": "python",
   "pygments_lexer": "ipython3",
   "version": "3.8.6"
  }
 },
 "nbformat": 4,
 "nbformat_minor": 4
}
